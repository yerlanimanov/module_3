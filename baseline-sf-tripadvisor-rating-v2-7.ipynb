{
 "cells": [
  {
   "cell_type": "markdown",
   "metadata": {},
   "source": [
    "![](https://www.pata.org/wp-content/uploads/2014/09/TripAdvisor_Logo-300x119.png)\n",
    "# Predict TripAdvisor Rating\n",
    "## В этом соревновании нам предстоит предсказать рейтинг ресторана в TripAdvisor\n",
    "**По ходу задачи:**\n",
    "* Прокачаем работу с pandas\n",
    "* Научимся работать с Kaggle Notebooks\n",
    "* Поймем как делать предобработку различных данных\n",
    "* Научимся работать с пропущенными данными (Nan)\n",
    "* Познакомимся с различными видами кодирования признаков\n",
    "* Немного попробуем [Feature Engineering](https://ru.wikipedia.org/wiki/Конструирование_признаков) (генерировать новые признаки)\n",
    "* И совсем немного затронем ML\n",
    "* И многое другое...   \n",
    "\n",
    "\n",
    "\n",
    "### И самое важное, все это вы сможете сделать самостоятельно!\n",
    "\n",
    "*Этот Ноутбук являетсся Примером/Шаблоном к этому соревнованию (Baseline) и не служит готовым решением!*   \n",
    "Вы можете использовать его как основу для построения своего решения.\n",
    "\n",
    "> что такое baseline решение, зачем оно нужно и почему предоставлять baseline к соревнованию стало важным стандартом на kaggle и других площадках.   \n",
    "**baseline** создается больше как шаблон, где можно посмотреть как происходит обращение с входящими данными и что нужно получить на выходе. При этом МЛ начинка может быть достаточно простой, просто для примера. Это помогает быстрее приступить к самому МЛ, а не тратить ценное время на чисто инженерные задачи. \n",
    "Также baseline являеться хорошей опорной точкой по метрике. Если твое решение хуже baseline - ты явно делаешь что-то не то и стоит попробовать другой путь) \n",
    "\n",
    "В контексте нашего соревнования baseline идет с небольшими примерами того, что можно делать с данными, и с инструкцией, что делать дальше, чтобы улучшить результат.  Вообще готовым решением это сложно назвать, так как используются всего 2 самых простых признака (а остальные исключаются)."
   ]
  },
  {
   "cell_type": "markdown",
   "metadata": {},
   "source": [
    "# import"
   ]
  },
  {
   "cell_type": "code",
   "execution_count": 1,
   "metadata": {
    "_cell_guid": "b1076dfc-b9ad-4769-8c92-a6c4dae69d19",
    "_uuid": "8f2839f25d086af736a60e9eeb907d3b93b6e0e5",
    "execution": {
     "iopub.execute_input": "2021-06-16T12:19:01.185450Z",
     "iopub.status.busy": "2021-06-16T12:19:01.185036Z",
     "iopub.status.idle": "2021-06-16T12:19:01.204179Z",
     "shell.execute_reply": "2021-06-16T12:19:01.202848Z",
     "shell.execute_reply.started": "2021-06-16T12:19:01.185389Z"
    }
   },
   "outputs": [
    {
     "name": "stdout",
     "output_type": "stream",
     "text": [
      "/kaggle/input/sf-dst-restaurant-rating/sample_submission.csv\n",
      "/kaggle/input/sf-dst-restaurant-rating/main_task.csv\n",
      "/kaggle/input/sf-dst-restaurant-rating/kaggle_task.csv\n"
     ]
    }
   ],
   "source": [
    "# This Python 3 environment comes with many helpful analytics libraries installed\n",
    "# It is defined by the kaggle/python docker image: https://github.com/kaggle/docker-python\n",
    "# For example, here's several helpful packages to load in \n",
    "\n",
    "import numpy as np # linear algebra\n",
    "import pandas as pd # data processing, CSV file I/O (e.g. pd.read_csv)\n",
    "import ast\n",
    "from datetime import datetime, timedelta \n",
    "import matplotlib.pyplot as plt\n",
    "import seaborn as sns \n",
    "%matplotlib inline\n",
    "\n",
    "# Загружаем специальный удобный инструмент для разделения датасета:\n",
    "from sklearn.model_selection import train_test_split\n",
    "\n",
    "# Input data files are available in the \"../input/\" directory.\n",
    "# For example, running this (by clicking run or pressing Shift+Enter) will list all files under the input directory\n",
    "\n",
    "import os\n",
    "for dirname, _, filenames in os.walk('/kaggle/input'):\n",
    "    for filename in filenames:\n",
    "        print(os.path.join(dirname, filename))\n",
    "\n",
    "# Any results you write to the current directory are saved as output."
   ]
  },
  {
   "cell_type": "code",
   "execution_count": 2,
   "metadata": {
    "execution": {
     "iopub.execute_input": "2021-06-16T12:19:04.434022Z",
     "iopub.status.busy": "2021-06-16T12:19:04.433667Z",
     "iopub.status.idle": "2021-06-16T12:19:04.438854Z",
     "shell.execute_reply": "2021-06-16T12:19:04.437641Z",
     "shell.execute_reply.started": "2021-06-16T12:19:04.433972Z"
    }
   },
   "outputs": [],
   "source": [
    "# всегда фиксируйте RANDOM_SEED, чтобы ваши эксперименты были воспроизводимы!\n",
    "RANDOM_SEED = 42"
   ]
  },
  {
   "cell_type": "code",
   "execution_count": 3,
   "metadata": {
    "execution": {
     "iopub.execute_input": "2021-06-16T12:19:06.062651Z",
     "iopub.status.busy": "2021-06-16T12:19:06.062319Z",
     "iopub.status.idle": "2021-06-16T12:19:08.468961Z",
     "shell.execute_reply": "2021-06-16T12:19:08.467634Z",
     "shell.execute_reply.started": "2021-06-16T12:19:06.062600Z"
    }
   },
   "outputs": [],
   "source": [
    "# зафиксируем версию пакетов, чтобы эксперименты были воспроизводимы:\n",
    "!pip freeze > requirements.txt"
   ]
  },
  {
   "cell_type": "markdown",
   "metadata": {},
   "source": [
    "# DATA"
   ]
  },
  {
   "cell_type": "code",
   "execution_count": 4,
   "metadata": {
    "_cell_guid": "79c7e3d0-c299-4dcb-8224-4455121ee9b0",
    "_uuid": "d629ff2d2480ee46fbb7e2d37f6b5fab8052498a",
    "execution": {
     "iopub.execute_input": "2021-06-16T12:24:42.239248Z",
     "iopub.status.busy": "2021-06-16T12:24:42.238912Z",
     "iopub.status.idle": "2021-06-16T12:24:42.478483Z",
     "shell.execute_reply": "2021-06-16T12:24:42.477157Z",
     "shell.execute_reply.started": "2021-06-16T12:24:42.239194Z"
    }
   },
   "outputs": [],
   "source": [
    "DATA_DIR = '/kaggle/input/sf-dst-restaurant-rating/'\n",
    "df_train = pd.read_csv(DATA_DIR+'/main_task.csv')\n",
    "df_test = pd.read_csv(DATA_DIR+'kaggle_task.csv')\n",
    "sample_submission = pd.read_csv(DATA_DIR+'/sample_submission.csv')"
   ]
  },
  {
   "cell_type": "code",
   "execution_count": 5,
   "metadata": {
    "execution": {
     "iopub.execute_input": "2021-06-16T12:24:45.108156Z",
     "iopub.status.busy": "2021-06-16T12:24:45.107835Z",
     "iopub.status.idle": "2021-06-16T12:24:45.144720Z",
     "shell.execute_reply": "2021-06-16T12:24:45.143882Z",
     "shell.execute_reply.started": "2021-06-16T12:24:45.108098Z"
    }
   },
   "outputs": [
    {
     "name": "stdout",
     "output_type": "stream",
     "text": [
      "<class 'pandas.core.frame.DataFrame'>\n",
      "RangeIndex: 40000 entries, 0 to 39999\n",
      "Data columns (total 10 columns):\n",
      "Restaurant_id        40000 non-null object\n",
      "City                 40000 non-null object\n",
      "Cuisine Style        30717 non-null object\n",
      "Ranking              40000 non-null float64\n",
      "Rating               40000 non-null float64\n",
      "Price Range          26114 non-null object\n",
      "Number of Reviews    37457 non-null float64\n",
      "Reviews              40000 non-null object\n",
      "URL_TA               40000 non-null object\n",
      "ID_TA                40000 non-null object\n",
      "dtypes: float64(3), object(7)\n",
      "memory usage: 3.1+ MB\n"
     ]
    }
   ],
   "source": [
    "df_train.info()"
   ]
  },
  {
   "cell_type": "code",
   "execution_count": 6,
   "metadata": {
    "execution": {
     "iopub.execute_input": "2021-06-16T12:19:15.417426Z",
     "iopub.status.busy": "2021-06-16T12:19:15.417084Z",
     "iopub.status.idle": "2021-06-16T12:19:15.439199Z",
     "shell.execute_reply": "2021-06-16T12:19:15.437605Z",
     "shell.execute_reply.started": "2021-06-16T12:19:15.417372Z"
    }
   },
   "outputs": [
    {
     "data": {
      "text/html": [
       "<div>\n",
       "<style scoped>\n",
       "    .dataframe tbody tr th:only-of-type {\n",
       "        vertical-align: middle;\n",
       "    }\n",
       "\n",
       "    .dataframe tbody tr th {\n",
       "        vertical-align: top;\n",
       "    }\n",
       "\n",
       "    .dataframe thead th {\n",
       "        text-align: right;\n",
       "    }\n",
       "</style>\n",
       "<table border=\"1\" class=\"dataframe\">\n",
       "  <thead>\n",
       "    <tr style=\"text-align: right;\">\n",
       "      <th></th>\n",
       "      <th>Restaurant_id</th>\n",
       "      <th>City</th>\n",
       "      <th>Cuisine Style</th>\n",
       "      <th>Ranking</th>\n",
       "      <th>Rating</th>\n",
       "      <th>Price Range</th>\n",
       "      <th>Number of Reviews</th>\n",
       "      <th>Reviews</th>\n",
       "      <th>URL_TA</th>\n",
       "      <th>ID_TA</th>\n",
       "    </tr>\n",
       "  </thead>\n",
       "  <tbody>\n",
       "    <tr>\n",
       "      <th>0</th>\n",
       "      <td>id_5569</td>\n",
       "      <td>Paris</td>\n",
       "      <td>['European', 'French', 'International']</td>\n",
       "      <td>5570.0</td>\n",
       "      <td>3.5</td>\n",
       "      <td>$$ - $$$</td>\n",
       "      <td>194.0</td>\n",
       "      <td>[['Good food at your doorstep', 'A good hotel ...</td>\n",
       "      <td>/Restaurant_Review-g187147-d1912643-Reviews-R_...</td>\n",
       "      <td>d1912643</td>\n",
       "    </tr>\n",
       "    <tr>\n",
       "      <th>1</th>\n",
       "      <td>id_1535</td>\n",
       "      <td>Stockholm</td>\n",
       "      <td>NaN</td>\n",
       "      <td>1537.0</td>\n",
       "      <td>4.0</td>\n",
       "      <td>NaN</td>\n",
       "      <td>10.0</td>\n",
       "      <td>[['Unique cuisine', 'Delicious Nepalese food']...</td>\n",
       "      <td>/Restaurant_Review-g189852-d7992032-Reviews-Bu...</td>\n",
       "      <td>d7992032</td>\n",
       "    </tr>\n",
       "    <tr>\n",
       "      <th>2</th>\n",
       "      <td>id_352</td>\n",
       "      <td>London</td>\n",
       "      <td>['Japanese', 'Sushi', 'Asian', 'Grill', 'Veget...</td>\n",
       "      <td>353.0</td>\n",
       "      <td>4.5</td>\n",
       "      <td>$$$$</td>\n",
       "      <td>688.0</td>\n",
       "      <td>[['Catch up with friends', 'Not exceptional'],...</td>\n",
       "      <td>/Restaurant_Review-g186338-d8632781-Reviews-RO...</td>\n",
       "      <td>d8632781</td>\n",
       "    </tr>\n",
       "    <tr>\n",
       "      <th>3</th>\n",
       "      <td>id_3456</td>\n",
       "      <td>Berlin</td>\n",
       "      <td>NaN</td>\n",
       "      <td>3458.0</td>\n",
       "      <td>5.0</td>\n",
       "      <td>NaN</td>\n",
       "      <td>3.0</td>\n",
       "      <td>[[], []]</td>\n",
       "      <td>/Restaurant_Review-g187323-d1358776-Reviews-Es...</td>\n",
       "      <td>d1358776</td>\n",
       "    </tr>\n",
       "    <tr>\n",
       "      <th>4</th>\n",
       "      <td>id_615</td>\n",
       "      <td>Munich</td>\n",
       "      <td>['German', 'Central European', 'Vegetarian Fri...</td>\n",
       "      <td>621.0</td>\n",
       "      <td>4.0</td>\n",
       "      <td>$$ - $$$</td>\n",
       "      <td>84.0</td>\n",
       "      <td>[['Best place to try a Bavarian food', 'Nice b...</td>\n",
       "      <td>/Restaurant_Review-g187309-d6864963-Reviews-Au...</td>\n",
       "      <td>d6864963</td>\n",
       "    </tr>\n",
       "  </tbody>\n",
       "</table>\n",
       "</div>"
      ],
      "text/plain": [
       "  Restaurant_id       City                                      Cuisine Style  \\\n",
       "0       id_5569      Paris            ['European', 'French', 'International']   \n",
       "1       id_1535  Stockholm                                                NaN   \n",
       "2        id_352     London  ['Japanese', 'Sushi', 'Asian', 'Grill', 'Veget...   \n",
       "3       id_3456     Berlin                                                NaN   \n",
       "4        id_615     Munich  ['German', 'Central European', 'Vegetarian Fri...   \n",
       "\n",
       "   Ranking  Rating Price Range  Number of Reviews  \\\n",
       "0   5570.0     3.5    $$ - $$$              194.0   \n",
       "1   1537.0     4.0         NaN               10.0   \n",
       "2    353.0     4.5        $$$$              688.0   \n",
       "3   3458.0     5.0         NaN                3.0   \n",
       "4    621.0     4.0    $$ - $$$               84.0   \n",
       "\n",
       "                                             Reviews  \\\n",
       "0  [['Good food at your doorstep', 'A good hotel ...   \n",
       "1  [['Unique cuisine', 'Delicious Nepalese food']...   \n",
       "2  [['Catch up with friends', 'Not exceptional'],...   \n",
       "3                                           [[], []]   \n",
       "4  [['Best place to try a Bavarian food', 'Nice b...   \n",
       "\n",
       "                                              URL_TA     ID_TA  \n",
       "0  /Restaurant_Review-g187147-d1912643-Reviews-R_...  d1912643  \n",
       "1  /Restaurant_Review-g189852-d7992032-Reviews-Bu...  d7992032  \n",
       "2  /Restaurant_Review-g186338-d8632781-Reviews-RO...  d8632781  \n",
       "3  /Restaurant_Review-g187323-d1358776-Reviews-Es...  d1358776  \n",
       "4  /Restaurant_Review-g187309-d6864963-Reviews-Au...  d6864963  "
      ]
     },
     "execution_count": 6,
     "metadata": {},
     "output_type": "execute_result"
    }
   ],
   "source": [
    "df_train.head(5)"
   ]
  },
  {
   "cell_type": "code",
   "execution_count": 7,
   "metadata": {
    "execution": {
     "iopub.execute_input": "2021-06-16T12:19:18.703326Z",
     "iopub.status.busy": "2021-06-16T12:19:18.702978Z",
     "iopub.status.idle": "2021-06-16T12:19:18.721101Z",
     "shell.execute_reply": "2021-06-16T12:19:18.720260Z",
     "shell.execute_reply.started": "2021-06-16T12:19:18.703271Z"
    }
   },
   "outputs": [
    {
     "name": "stdout",
     "output_type": "stream",
     "text": [
      "<class 'pandas.core.frame.DataFrame'>\n",
      "RangeIndex: 10000 entries, 0 to 9999\n",
      "Data columns (total 9 columns):\n",
      "Restaurant_id        10000 non-null object\n",
      "City                 10000 non-null object\n",
      "Cuisine Style        7693 non-null object\n",
      "Ranking              10000 non-null float64\n",
      "Price Range          6525 non-null object\n",
      "Number of Reviews    9343 non-null float64\n",
      "Reviews              9998 non-null object\n",
      "URL_TA               10000 non-null object\n",
      "ID_TA                10000 non-null object\n",
      "dtypes: float64(2), object(7)\n",
      "memory usage: 703.2+ KB\n"
     ]
    }
   ],
   "source": [
    "df_test.info()"
   ]
  },
  {
   "cell_type": "code",
   "execution_count": 8,
   "metadata": {
    "execution": {
     "iopub.execute_input": "2021-06-16T12:19:21.843763Z",
     "iopub.status.busy": "2021-06-16T12:19:21.843417Z",
     "iopub.status.idle": "2021-06-16T12:19:21.865810Z",
     "shell.execute_reply": "2021-06-16T12:19:21.864513Z",
     "shell.execute_reply.started": "2021-06-16T12:19:21.843724Z"
    }
   },
   "outputs": [
    {
     "data": {
      "text/html": [
       "<div>\n",
       "<style scoped>\n",
       "    .dataframe tbody tr th:only-of-type {\n",
       "        vertical-align: middle;\n",
       "    }\n",
       "\n",
       "    .dataframe tbody tr th {\n",
       "        vertical-align: top;\n",
       "    }\n",
       "\n",
       "    .dataframe thead th {\n",
       "        text-align: right;\n",
       "    }\n",
       "</style>\n",
       "<table border=\"1\" class=\"dataframe\">\n",
       "  <thead>\n",
       "    <tr style=\"text-align: right;\">\n",
       "      <th></th>\n",
       "      <th>Restaurant_id</th>\n",
       "      <th>City</th>\n",
       "      <th>Cuisine Style</th>\n",
       "      <th>Ranking</th>\n",
       "      <th>Price Range</th>\n",
       "      <th>Number of Reviews</th>\n",
       "      <th>Reviews</th>\n",
       "      <th>URL_TA</th>\n",
       "      <th>ID_TA</th>\n",
       "    </tr>\n",
       "  </thead>\n",
       "  <tbody>\n",
       "    <tr>\n",
       "      <th>0</th>\n",
       "      <td>id_0</td>\n",
       "      <td>Paris</td>\n",
       "      <td>['Bar', 'Pub']</td>\n",
       "      <td>12963.0</td>\n",
       "      <td>$$ - $$$</td>\n",
       "      <td>4.0</td>\n",
       "      <td>[[], []]</td>\n",
       "      <td>/Restaurant_Review-g187147-d10746918-Reviews-L...</td>\n",
       "      <td>d10746918</td>\n",
       "    </tr>\n",
       "    <tr>\n",
       "      <th>1</th>\n",
       "      <td>id_1</td>\n",
       "      <td>Helsinki</td>\n",
       "      <td>['European', 'Scandinavian', 'Gluten Free Opti...</td>\n",
       "      <td>106.0</td>\n",
       "      <td>$$ - $$$</td>\n",
       "      <td>97.0</td>\n",
       "      <td>[['Very good reviews!', 'Fine dining in Hakani...</td>\n",
       "      <td>/Restaurant_Review-g189934-d6674944-Reviews-Ra...</td>\n",
       "      <td>d6674944</td>\n",
       "    </tr>\n",
       "    <tr>\n",
       "      <th>2</th>\n",
       "      <td>id_2</td>\n",
       "      <td>Edinburgh</td>\n",
       "      <td>['Vegetarian Friendly']</td>\n",
       "      <td>810.0</td>\n",
       "      <td>$$ - $$$</td>\n",
       "      <td>28.0</td>\n",
       "      <td>[['Better than the Links', 'Ivy Black'], ['12/...</td>\n",
       "      <td>/Restaurant_Review-g186525-d13129638-Reviews-B...</td>\n",
       "      <td>d13129638</td>\n",
       "    </tr>\n",
       "    <tr>\n",
       "      <th>3</th>\n",
       "      <td>id_3</td>\n",
       "      <td>London</td>\n",
       "      <td>['Italian', 'Mediterranean', 'European', 'Vege...</td>\n",
       "      <td>1669.0</td>\n",
       "      <td>$$$$</td>\n",
       "      <td>202.0</td>\n",
       "      <td>[['Most exquisite', 'Delicious and authentic']...</td>\n",
       "      <td>/Restaurant_Review-g186338-d680417-Reviews-Qui...</td>\n",
       "      <td>d680417</td>\n",
       "    </tr>\n",
       "    <tr>\n",
       "      <th>4</th>\n",
       "      <td>id_4</td>\n",
       "      <td>Bratislava</td>\n",
       "      <td>['Italian', 'Mediterranean', 'European', 'Seaf...</td>\n",
       "      <td>37.0</td>\n",
       "      <td>$$$$</td>\n",
       "      <td>162.0</td>\n",
       "      <td>[['Always the best in bratislava', 'Very good ...</td>\n",
       "      <td>/Restaurant_Review-g274924-d1112354-Reviews-Ma...</td>\n",
       "      <td>d1112354</td>\n",
       "    </tr>\n",
       "  </tbody>\n",
       "</table>\n",
       "</div>"
      ],
      "text/plain": [
       "  Restaurant_id        City  \\\n",
       "0          id_0       Paris   \n",
       "1          id_1    Helsinki   \n",
       "2          id_2   Edinburgh   \n",
       "3          id_3      London   \n",
       "4          id_4  Bratislava   \n",
       "\n",
       "                                       Cuisine Style  Ranking Price Range  \\\n",
       "0                                     ['Bar', 'Pub']  12963.0    $$ - $$$   \n",
       "1  ['European', 'Scandinavian', 'Gluten Free Opti...    106.0    $$ - $$$   \n",
       "2                            ['Vegetarian Friendly']    810.0    $$ - $$$   \n",
       "3  ['Italian', 'Mediterranean', 'European', 'Vege...   1669.0        $$$$   \n",
       "4  ['Italian', 'Mediterranean', 'European', 'Seaf...     37.0        $$$$   \n",
       "\n",
       "   Number of Reviews                                            Reviews  \\\n",
       "0                4.0                                           [[], []]   \n",
       "1               97.0  [['Very good reviews!', 'Fine dining in Hakani...   \n",
       "2               28.0  [['Better than the Links', 'Ivy Black'], ['12/...   \n",
       "3              202.0  [['Most exquisite', 'Delicious and authentic']...   \n",
       "4              162.0  [['Always the best in bratislava', 'Very good ...   \n",
       "\n",
       "                                              URL_TA      ID_TA  \n",
       "0  /Restaurant_Review-g187147-d10746918-Reviews-L...  d10746918  \n",
       "1  /Restaurant_Review-g189934-d6674944-Reviews-Ra...   d6674944  \n",
       "2  /Restaurant_Review-g186525-d13129638-Reviews-B...  d13129638  \n",
       "3  /Restaurant_Review-g186338-d680417-Reviews-Qui...    d680417  \n",
       "4  /Restaurant_Review-g274924-d1112354-Reviews-Ma...   d1112354  "
      ]
     },
     "execution_count": 8,
     "metadata": {},
     "output_type": "execute_result"
    }
   ],
   "source": [
    "df_test.head(5)"
   ]
  },
  {
   "cell_type": "code",
   "execution_count": 9,
   "metadata": {
    "execution": {
     "iopub.execute_input": "2021-06-16T12:19:26.042498Z",
     "iopub.status.busy": "2021-06-16T12:19:26.042111Z",
     "iopub.status.idle": "2021-06-16T12:19:26.055335Z",
     "shell.execute_reply": "2021-06-16T12:19:26.054055Z",
     "shell.execute_reply.started": "2021-06-16T12:19:26.042432Z"
    }
   },
   "outputs": [
    {
     "data": {
      "text/html": [
       "<div>\n",
       "<style scoped>\n",
       "    .dataframe tbody tr th:only-of-type {\n",
       "        vertical-align: middle;\n",
       "    }\n",
       "\n",
       "    .dataframe tbody tr th {\n",
       "        vertical-align: top;\n",
       "    }\n",
       "\n",
       "    .dataframe thead th {\n",
       "        text-align: right;\n",
       "    }\n",
       "</style>\n",
       "<table border=\"1\" class=\"dataframe\">\n",
       "  <thead>\n",
       "    <tr style=\"text-align: right;\">\n",
       "      <th></th>\n",
       "      <th>Restaurant_id</th>\n",
       "      <th>Rating</th>\n",
       "    </tr>\n",
       "  </thead>\n",
       "  <tbody>\n",
       "    <tr>\n",
       "      <th>0</th>\n",
       "      <td>id_0</td>\n",
       "      <td>2.0</td>\n",
       "    </tr>\n",
       "    <tr>\n",
       "      <th>1</th>\n",
       "      <td>id_1</td>\n",
       "      <td>2.5</td>\n",
       "    </tr>\n",
       "    <tr>\n",
       "      <th>2</th>\n",
       "      <td>id_2</td>\n",
       "      <td>4.0</td>\n",
       "    </tr>\n",
       "    <tr>\n",
       "      <th>3</th>\n",
       "      <td>id_3</td>\n",
       "      <td>1.0</td>\n",
       "    </tr>\n",
       "    <tr>\n",
       "      <th>4</th>\n",
       "      <td>id_4</td>\n",
       "      <td>4.0</td>\n",
       "    </tr>\n",
       "  </tbody>\n",
       "</table>\n",
       "</div>"
      ],
      "text/plain": [
       "  Restaurant_id  Rating\n",
       "0          id_0     2.0\n",
       "1          id_1     2.5\n",
       "2          id_2     4.0\n",
       "3          id_3     1.0\n",
       "4          id_4     4.0"
      ]
     },
     "execution_count": 9,
     "metadata": {},
     "output_type": "execute_result"
    }
   ],
   "source": [
    "sample_submission.head(5)"
   ]
  },
  {
   "cell_type": "code",
   "execution_count": 10,
   "metadata": {
    "execution": {
     "iopub.execute_input": "2021-06-16T12:19:29.992852Z",
     "iopub.status.busy": "2021-06-16T12:19:29.992561Z",
     "iopub.status.idle": "2021-06-16T12:19:30.005224Z",
     "shell.execute_reply": "2021-06-16T12:19:30.004248Z",
     "shell.execute_reply.started": "2021-06-16T12:19:29.992816Z"
    }
   },
   "outputs": [
    {
     "name": "stdout",
     "output_type": "stream",
     "text": [
      "<class 'pandas.core.frame.DataFrame'>\n",
      "RangeIndex: 10000 entries, 0 to 9999\n",
      "Data columns (total 2 columns):\n",
      "Restaurant_id    10000 non-null object\n",
      "Rating           10000 non-null float64\n",
      "dtypes: float64(1), object(1)\n",
      "memory usage: 156.4+ KB\n"
     ]
    }
   ],
   "source": [
    "sample_submission.info()"
   ]
  },
  {
   "cell_type": "code",
   "execution_count": 11,
   "metadata": {
    "execution": {
     "iopub.execute_input": "2021-06-16T12:24:52.934833Z",
     "iopub.status.busy": "2021-06-16T12:24:52.934291Z",
     "iopub.status.idle": "2021-06-16T12:24:52.973948Z",
     "shell.execute_reply": "2021-06-16T12:24:52.972606Z",
     "shell.execute_reply.started": "2021-06-16T12:24:52.934787Z"
    }
   },
   "outputs": [],
   "source": [
    "# ВАЖНО! дря корректной обработки признаков объединяем трейн и тест в один датасет\n",
    "df_train['sample'] = 1 # помечаем где у нас трейн\n",
    "df_test['sample'] = 0 # помечаем где у нас тест\n",
    "df_test['Rating'] = 0 # в тесте у нас нет значения Rating, мы его должны предсказать, по этому пока просто заполняем нулями\n",
    "\n",
    "data = df_test.append(df_train, sort=False).reset_index(drop=True) # объединяем"
   ]
  },
  {
   "cell_type": "code",
   "execution_count": 12,
   "metadata": {
    "execution": {
     "iopub.execute_input": "2021-06-16T12:19:37.520465Z",
     "iopub.status.busy": "2021-06-16T12:19:37.520039Z",
     "iopub.status.idle": "2021-06-16T12:19:37.566376Z",
     "shell.execute_reply": "2021-06-16T12:19:37.564705Z",
     "shell.execute_reply.started": "2021-06-16T12:19:37.520408Z"
    }
   },
   "outputs": [
    {
     "name": "stdout",
     "output_type": "stream",
     "text": [
      "<class 'pandas.core.frame.DataFrame'>\n",
      "RangeIndex: 50000 entries, 0 to 49999\n",
      "Data columns (total 11 columns):\n",
      "Restaurant_id        50000 non-null object\n",
      "City                 50000 non-null object\n",
      "Cuisine Style        38410 non-null object\n",
      "Ranking              50000 non-null float64\n",
      "Price Range          32639 non-null object\n",
      "Number of Reviews    46800 non-null float64\n",
      "Reviews              49998 non-null object\n",
      "URL_TA               50000 non-null object\n",
      "ID_TA                50000 non-null object\n",
      "sample               50000 non-null int64\n",
      "Rating               50000 non-null float64\n",
      "dtypes: float64(3), int64(1), object(7)\n",
      "memory usage: 4.2+ MB\n"
     ]
    }
   ],
   "source": [
    "data.info()"
   ]
  },
  {
   "cell_type": "code",
   "execution_count": 13,
   "metadata": {
    "execution": {
     "iopub.execute_input": "2021-06-16T12:24:57.084278Z",
     "iopub.status.busy": "2021-06-16T12:24:57.083612Z",
     "iopub.status.idle": "2021-06-16T12:24:57.100570Z",
     "shell.execute_reply": "2021-06-16T12:24:57.099462Z",
     "shell.execute_reply.started": "2021-06-16T12:24:57.084212Z"
    }
   },
   "outputs": [
    {
     "data": {
      "text/plain": [
       "Index(['Restaurant_id', 'City', 'Cuisine_Style', 'Ranking', 'Price_Range',\n",
       "       'Number_of_Reviews', 'Reviews', 'URL_TA', 'ID_TA', 'sample', 'Rating'],\n",
       "      dtype='object')"
      ]
     },
     "execution_count": 13,
     "metadata": {},
     "output_type": "execute_result"
    }
   ],
   "source": [
    "# переименуем столбцы\n",
    "data.rename(\n",
    "    columns={'Cuisine Style': 'Cuisine_Style', \n",
    "             'Price Range': 'Price_Range', \n",
    "             'Number of Reviews': \n",
    "             'Number_of_Reviews'}, inplace=True)\n",
    "\n",
    "data.columns"
   ]
  },
  {
   "cell_type": "markdown",
   "metadata": {},
   "source": [
    "Подробнее по признакам:\n",
    "* City: Город \n",
    "* Cuisine Style: Кухня\n",
    "* Ranking: Ранг ресторана относительно других ресторанов в этом городе\n",
    "* Price Range: Цены в ресторане в 3 категориях\n",
    "* Number of Reviews: Количество отзывов\n",
    "* Reviews: 2 последних отзыва и даты этих отзывов\n",
    "* URL_TA: страница ресторана на 'www.tripadvisor.com' \n",
    "* ID_TA: ID ресторана в TripAdvisor\n",
    "* Rating: Рейтинг ресторана"
   ]
  },
  {
   "cell_type": "code",
   "execution_count": 14,
   "metadata": {
    "execution": {
     "iopub.execute_input": "2021-06-16T12:20:26.763037Z",
     "iopub.status.busy": "2021-06-16T12:20:26.762509Z",
     "iopub.status.idle": "2021-06-16T12:20:26.786577Z",
     "shell.execute_reply": "2021-06-16T12:20:26.785550Z",
     "shell.execute_reply.started": "2021-06-16T12:20:26.762971Z"
    }
   },
   "outputs": [
    {
     "data": {
      "text/html": [
       "<div>\n",
       "<style scoped>\n",
       "    .dataframe tbody tr th:only-of-type {\n",
       "        vertical-align: middle;\n",
       "    }\n",
       "\n",
       "    .dataframe tbody tr th {\n",
       "        vertical-align: top;\n",
       "    }\n",
       "\n",
       "    .dataframe thead th {\n",
       "        text-align: right;\n",
       "    }\n",
       "</style>\n",
       "<table border=\"1\" class=\"dataframe\">\n",
       "  <thead>\n",
       "    <tr style=\"text-align: right;\">\n",
       "      <th></th>\n",
       "      <th>Restaurant_id</th>\n",
       "      <th>City</th>\n",
       "      <th>Cuisine_Style</th>\n",
       "      <th>Ranking</th>\n",
       "      <th>Price_Range</th>\n",
       "      <th>Number_of_Reviews</th>\n",
       "      <th>Reviews</th>\n",
       "      <th>URL_TA</th>\n",
       "      <th>ID_TA</th>\n",
       "      <th>sample</th>\n",
       "      <th>Rating</th>\n",
       "    </tr>\n",
       "  </thead>\n",
       "  <tbody>\n",
       "    <tr>\n",
       "      <th>48823</th>\n",
       "      <td>id_1769</td>\n",
       "      <td>Vienna</td>\n",
       "      <td>['American', 'International', 'Barbecue']</td>\n",
       "      <td>1770.0</td>\n",
       "      <td>NaN</td>\n",
       "      <td>NaN</td>\n",
       "      <td>[['Always a good bet'], ['07/11/2017']]</td>\n",
       "      <td>/Restaurant_Review-g190454-d12339205-Reviews-S...</td>\n",
       "      <td>d12339205</td>\n",
       "      <td>1</td>\n",
       "      <td>5.0</td>\n",
       "    </tr>\n",
       "    <tr>\n",
       "      <th>21436</th>\n",
       "      <td>id_12481</td>\n",
       "      <td>Paris</td>\n",
       "      <td>['Chinese', 'Japanese']</td>\n",
       "      <td>12483.0</td>\n",
       "      <td>$</td>\n",
       "      <td>12.0</td>\n",
       "      <td>[['Great take-away'], ['12/30/2012']]</td>\n",
       "      <td>/Restaurant_Review-g187147-d742374-Reviews-Wan...</td>\n",
       "      <td>d742374</td>\n",
       "      <td>1</td>\n",
       "      <td>3.5</td>\n",
       "    </tr>\n",
       "    <tr>\n",
       "      <th>36902</th>\n",
       "      <td>id_436</td>\n",
       "      <td>Hamburg</td>\n",
       "      <td>['European', 'Swedish', 'Scandinavian', 'Danis...</td>\n",
       "      <td>437.0</td>\n",
       "      <td>$$ - $$$</td>\n",
       "      <td>47.0</td>\n",
       "      <td>[['Scandi cafe in hamburg', 'Scandinavian want...</td>\n",
       "      <td>/Restaurant_Review-g187331-d1962984-Reviews-Ka...</td>\n",
       "      <td>d1962984</td>\n",
       "      <td>1</td>\n",
       "      <td>4.0</td>\n",
       "    </tr>\n",
       "    <tr>\n",
       "      <th>40801</th>\n",
       "      <td>id_4421</td>\n",
       "      <td>Rome</td>\n",
       "      <td>['Seafood', 'International', 'European', 'Stre...</td>\n",
       "      <td>4422.0</td>\n",
       "      <td>$</td>\n",
       "      <td>17.0</td>\n",
       "      <td>[[], []]</td>\n",
       "      <td>/Restaurant_Review-g187791-d12429411-Reviews-S...</td>\n",
       "      <td>d12429411</td>\n",
       "      <td>1</td>\n",
       "      <td>4.5</td>\n",
       "    </tr>\n",
       "    <tr>\n",
       "      <th>9326</th>\n",
       "      <td>id_9326</td>\n",
       "      <td>Rome</td>\n",
       "      <td>['Italian', 'American', 'Steakhouse', 'Interna...</td>\n",
       "      <td>1907.0</td>\n",
       "      <td>$$ - $$$</td>\n",
       "      <td>35.0</td>\n",
       "      <td>[['Great American burger', 'A Break From Pizza...</td>\n",
       "      <td>/Restaurant_Review-g187791-d12814148-Reviews-T...</td>\n",
       "      <td>d12814148</td>\n",
       "      <td>0</td>\n",
       "      <td>0.0</td>\n",
       "    </tr>\n",
       "  </tbody>\n",
       "</table>\n",
       "</div>"
      ],
      "text/plain": [
       "      Restaurant_id     City  \\\n",
       "48823       id_1769   Vienna   \n",
       "21436      id_12481    Paris   \n",
       "36902        id_436  Hamburg   \n",
       "40801       id_4421     Rome   \n",
       "9326        id_9326     Rome   \n",
       "\n",
       "                                           Cuisine_Style  Ranking Price_Range  \\\n",
       "48823          ['American', 'International', 'Barbecue']   1770.0         NaN   \n",
       "21436                            ['Chinese', 'Japanese']  12483.0           $   \n",
       "36902  ['European', 'Swedish', 'Scandinavian', 'Danis...    437.0    $$ - $$$   \n",
       "40801  ['Seafood', 'International', 'European', 'Stre...   4422.0           $   \n",
       "9326   ['Italian', 'American', 'Steakhouse', 'Interna...   1907.0    $$ - $$$   \n",
       "\n",
       "       Number_of_Reviews                                            Reviews  \\\n",
       "48823                NaN            [['Always a good bet'], ['07/11/2017']]   \n",
       "21436               12.0              [['Great take-away'], ['12/30/2012']]   \n",
       "36902               47.0  [['Scandi cafe in hamburg', 'Scandinavian want...   \n",
       "40801               17.0                                           [[], []]   \n",
       "9326                35.0  [['Great American burger', 'A Break From Pizza...   \n",
       "\n",
       "                                                  URL_TA      ID_TA  sample  \\\n",
       "48823  /Restaurant_Review-g190454-d12339205-Reviews-S...  d12339205       1   \n",
       "21436  /Restaurant_Review-g187147-d742374-Reviews-Wan...    d742374       1   \n",
       "36902  /Restaurant_Review-g187331-d1962984-Reviews-Ka...   d1962984       1   \n",
       "40801  /Restaurant_Review-g187791-d12429411-Reviews-S...  d12429411       1   \n",
       "9326   /Restaurant_Review-g187791-d12814148-Reviews-T...  d12814148       0   \n",
       "\n",
       "       Rating  \n",
       "48823     5.0  \n",
       "21436     3.5  \n",
       "36902     4.0  \n",
       "40801     4.5  \n",
       "9326      0.0  "
      ]
     },
     "execution_count": 14,
     "metadata": {},
     "output_type": "execute_result"
    }
   ],
   "source": [
    "data.sample(5)"
   ]
  },
  {
   "cell_type": "code",
   "execution_count": 15,
   "metadata": {
    "execution": {
     "iopub.execute_input": "2021-06-16T12:20:29.790045Z",
     "iopub.status.busy": "2021-06-16T12:20:29.789728Z",
     "iopub.status.idle": "2021-06-16T12:20:29.800631Z",
     "shell.execute_reply": "2021-06-16T12:20:29.799136Z",
     "shell.execute_reply.started": "2021-06-16T12:20:29.789994Z"
    }
   },
   "outputs": [
    {
     "data": {
      "text/plain": [
       "0                                                 [[], []]\n",
       "1        [['Very good reviews!', 'Fine dining in Hakani...\n",
       "2        [['Better than the Links', 'Ivy Black'], ['12/...\n",
       "3        [['Most exquisite', 'Delicious and authentic']...\n",
       "4        [['Always the best in bratislava', 'Very good ...\n",
       "                               ...                        \n",
       "49995    [['The real Italian experience!', 'Wonderful f...\n",
       "49996    [['Parisian atmosphere', 'Bit pricey but inter...\n",
       "49997    [['Good by swedish standards', 'A hidden jewel...\n",
       "49998    [['Underground restaurant', 'Oldest Restaurant...\n",
       "49999    [['Average', 'Nice an informal'], ['01/31/2016...\n",
       "Name: Reviews, Length: 50000, dtype: object"
      ]
     },
     "execution_count": 15,
     "metadata": {},
     "output_type": "execute_result"
    }
   ],
   "source": [
    "data.Reviews"
   ]
  },
  {
   "cell_type": "markdown",
   "metadata": {},
   "source": [
    "Как видим, большинство признаков у нас требует очистки и предварительной обработки."
   ]
  },
  {
   "cell_type": "markdown",
   "metadata": {},
   "source": [
    "# Cleaning and Prepping Data\n",
    "Обычно данные содержат в себе кучу мусора, который необходимо почистить, для того чтобы привести их в приемлемый формат. Чистка данных — это необходимый этап решения почти любой реальной задачи.   \n",
    "![](https://analyticsindiamag.com/wp-content/uploads/2018/01/data-cleaning.png)"
   ]
  },
  {
   "cell_type": "markdown",
   "metadata": {},
   "source": [
    "## 1. Обработка NAN \n",
    "У наличия пропусков могут быть разные причины, но пропуски нужно либо заполнить, либо исключить из набора полностью. Но с пропусками нужно быть внимательным, **даже отсутствие информации может быть важным признаком!**   \n",
    "По этому перед обработкой NAN лучше вынести информацию о наличии пропуска как отдельный признак "
   ]
  },
  {
   "cell_type": "code",
   "execution_count": 16,
   "metadata": {
    "execution": {
     "iopub.execute_input": "2021-06-16T12:25:04.322860Z",
     "iopub.status.busy": "2021-06-16T12:25:04.322130Z",
     "iopub.status.idle": "2021-06-16T12:25:04.336458Z",
     "shell.execute_reply": "2021-06-16T12:25:04.335303Z",
     "shell.execute_reply.started": "2021-06-16T12:25:04.322790Z"
    }
   },
   "outputs": [],
   "source": [
    "# Заменим пустые значения 'Reviews' на аналогичные\n",
    "data['Reviews'].fillna('[[], []]', inplace=True)"
   ]
  },
  {
   "cell_type": "code",
   "execution_count": 17,
   "metadata": {
    "execution": {
     "iopub.execute_input": "2021-06-16T12:25:06.048913Z",
     "iopub.status.busy": "2021-06-16T12:25:06.048572Z",
     "iopub.status.idle": "2021-06-16T12:25:06.071474Z",
     "shell.execute_reply": "2021-06-16T12:25:06.070438Z",
     "shell.execute_reply.started": "2021-06-16T12:25:06.048861Z"
    }
   },
   "outputs": [],
   "source": [
    "# Сохраним информацию о пропусках в количестве наблюдений\n",
    "data['Number_of_Reviews_isNAN'] = pd.isna(data['Number_of_Reviews']).astype('uint8')\n",
    "data['Cuisine_Style_isNAN'] = pd.isna(data['Cuisine_Style']).astype('uint8')\n",
    "data['Price_Range_isNAN'] = pd.isna(data['Price_Range']).astype('uint8')"
   ]
  },
  {
   "cell_type": "code",
   "execution_count": 18,
   "metadata": {
    "execution": {
     "iopub.execute_input": "2021-06-16T12:21:59.042008Z",
     "iopub.status.busy": "2021-06-16T12:21:59.041652Z",
     "iopub.status.idle": "2021-06-16T12:22:01.708123Z",
     "shell.execute_reply": "2021-06-16T12:22:01.706774Z",
     "shell.execute_reply.started": "2021-06-16T12:21:59.041949Z"
    }
   },
   "outputs": [
    {
     "data": {
      "text/plain": [
       "<matplotlib.axes._subplots.AxesSubplot at 0x7f92a5ce20f0>"
      ]
     },
     "execution_count": 18,
     "metadata": {},
     "output_type": "execute_result"
    },
    {
     "data": {
      "image/png": "[encoded data removed]",
      "text/plain": [
       "<Figure size 1080x1080 with 2 Axes>"
      ]
     },
     "metadata": {
      "needs_background": "light"
     },
     "output_type": "display_data"
    }
   ],
   "source": [
    "# Посмотрим визуально на наши пропуски\n",
    "plt.subplots(figsize=(15, 15))\n",
    "sns.heatmap(data.isnull())"
   ]
  },
  {
   "cell_type": "code",
   "execution_count": 19,
   "metadata": {
    "execution": {
     "iopub.execute_input": "2021-06-16T12:25:14.448546Z",
     "iopub.status.busy": "2021-06-16T12:25:14.447940Z",
     "iopub.status.idle": "2021-06-16T12:25:16.618693Z",
     "shell.execute_reply": "2021-06-16T12:25:16.617560Z",
     "shell.execute_reply.started": "2021-06-16T12:25:14.448477Z"
    }
   },
   "outputs": [],
   "source": [
    "# Заполним пропуски в столбце Number_of_Reviews на основании информации стобца Reviews\n",
    "def number_reviews(row):\n",
    "    if pd.isnull(row.Number_of_Reviews):\n",
    "        if len(row.Reviews) > 8:\n",
    "            return 1\n",
    "        return 0\n",
    "    return row.Number_of_Reviews\n",
    "\n",
    "\n",
    "# Применяем нашу функцию\n",
    "data['Number_of_Reviews'] = data.apply(number_reviews, 1)"
   ]
  },
  {
   "cell_type": "code",
   "execution_count": 20,
   "metadata": {
    "execution": {
     "iopub.execute_input": "2021-06-16T12:25:22.789446Z",
     "iopub.status.busy": "2021-06-16T12:25:22.789094Z",
     "iopub.status.idle": "2021-06-16T12:25:22.798955Z",
     "shell.execute_reply": "2021-06-16T12:25:22.797906Z",
     "shell.execute_reply.started": "2021-06-16T12:25:22.789388Z"
    }
   },
   "outputs": [],
   "source": [
    "# Самый распространённый средний ценовой сегмент '$$ - $$$', заполним пропуски им\n",
    "data['Price_Range'].fillna('$$ - $$$', inplace=True)"
   ]
  },
  {
   "cell_type": "code",
   "execution_count": 21,
   "metadata": {
    "execution": {
     "iopub.execute_input": "2021-06-16T12:25:26.398805Z",
     "iopub.status.busy": "2021-06-16T12:25:26.398443Z",
     "iopub.status.idle": "2021-06-16T12:25:26.410857Z",
     "shell.execute_reply": "2021-06-16T12:25:26.409526Z",
     "shell.execute_reply.started": "2021-06-16T12:25:26.398750Z"
    }
   },
   "outputs": [],
   "source": [
    "# Пропуски в Cuisine_Style заменим на значение European\n",
    "data.Cuisine_Style = data.Cuisine_Style.fillna(value='European')"
   ]
  },
  {
   "cell_type": "code",
   "execution_count": 22,
   "metadata": {
    "execution": {
     "iopub.execute_input": "2021-06-16T12:25:29.203255Z",
     "iopub.status.busy": "2021-06-16T12:25:29.202786Z",
     "iopub.status.idle": "2021-06-16T12:25:29.210342Z",
     "shell.execute_reply": "2021-06-16T12:25:29.209362Z",
     "shell.execute_reply.started": "2021-06-16T12:25:29.203212Z"
    }
   },
   "outputs": [
    {
     "data": {
      "text/plain": [
       "0        0\n",
       "1        0\n",
       "2        0\n",
       "3        0\n",
       "4        0\n",
       "        ..\n",
       "49995    0\n",
       "49996    0\n",
       "49997    0\n",
       "49998    0\n",
       "49999    0\n",
       "Name: Number_of_Reviews_isNAN, Length: 50000, dtype: uint8"
      ]
     },
     "execution_count": 22,
     "metadata": {},
     "output_type": "execute_result"
    }
   ],
   "source": [
    "data['Number_of_Reviews_isNAN']"
   ]
  },
  {
   "cell_type": "markdown",
   "metadata": {},
   "source": [
    "### 2. Обработка признаков\n",
    "Для начала посмотрим какие признаки у нас могут быть категориальными."
   ]
  },
  {
   "cell_type": "code",
   "execution_count": 23,
   "metadata": {
    "execution": {
     "iopub.execute_input": "2021-06-16T12:25:32.987602Z",
     "iopub.status.busy": "2021-06-16T12:25:32.987203Z",
     "iopub.status.idle": "2021-06-16T12:25:33.113277Z",
     "shell.execute_reply": "2021-06-16T12:25:33.112068Z",
     "shell.execute_reply.started": "2021-06-16T12:25:32.987482Z"
    }
   },
   "outputs": [
    {
     "data": {
      "text/plain": [
       "Restaurant_id              13094\n",
       "City                          31\n",
       "Cuisine_Style              10732\n",
       "Ranking                    12975\n",
       "Price_Range                    3\n",
       "Number_of_Reviews           1575\n",
       "Reviews                    41857\n",
       "URL_TA                     49963\n",
       "ID_TA                      49963\n",
       "sample                         2\n",
       "Rating                        10\n",
       "Number_of_Reviews_isNAN        2\n",
       "Cuisine_Style_isNAN            2\n",
       "Price_Range_isNAN              2\n",
       "dtype: int64"
      ]
     },
     "execution_count": 23,
     "metadata": {},
     "output_type": "execute_result"
    }
   ],
   "source": [
    "data.nunique(dropna=False)"
   ]
  },
  {
   "cell_type": "markdown",
   "metadata": {},
   "source": [
    "Какие признаки можно считать категориальными?"
   ]
  },
  {
   "cell_type": "markdown",
   "metadata": {},
   "source": [
    "Для кодирования категориальных признаков есть множество подходов:\n",
    "* Label Encoding\n",
    "* One-Hot Encoding\n",
    "* Target Encoding\n",
    "* Hashing\n",
    "\n",
    "Выбор кодирования зависит от признака и выбраной модели.\n",
    "Не будем сейчас сильно погружаться в эту тематику, давайте посмотрим лучше пример с One-Hot Encoding:\n",
    "![](https://i.imgur.com/mtimFxh.png)"
   ]
  },
  {
   "cell_type": "code",
   "execution_count": 24,
   "metadata": {
    "execution": {
     "iopub.execute_input": "2021-06-16T12:25:45.651376Z",
     "iopub.status.busy": "2021-06-16T12:25:45.650998Z",
     "iopub.status.idle": "2021-06-16T12:25:45.673373Z",
     "shell.execute_reply": "2021-06-16T12:25:45.672274Z",
     "shell.execute_reply.started": "2021-06-16T12:25:45.651322Z"
    }
   },
   "outputs": [
    {
     "data": {
      "text/plain": [
       "London        7193\n",
       "Paris         6108\n",
       "Madrid        3813\n",
       "Barcelona     3395\n",
       "Berlin        2705\n",
       "Milan         2694\n",
       "Rome          2589\n",
       "Prague        1816\n",
       "Lisbon        1647\n",
       "Vienna        1443\n",
       "Amsterdam     1372\n",
       "Brussels      1314\n",
       "Hamburg       1186\n",
       "Munich        1145\n",
       "Lyon          1126\n",
       "Stockholm     1033\n",
       "Budapest      1021\n",
       "Warsaw         925\n",
       "Dublin         836\n",
       "Copenhagen     819\n",
       "Athens         776\n",
       "Edinburgh      745\n",
       "Zurich         685\n",
       "Oporto         642\n",
       "Geneva         590\n",
       "Krakow         554\n",
       "Oslo           488\n",
       "Helsinki       475\n",
       "Bratislava     380\n",
       "Luxembourg     263\n",
       "Ljubljana      222\n",
       "Name: City, dtype: int64"
      ]
     },
     "execution_count": 24,
     "metadata": {},
     "output_type": "execute_result"
    }
   ],
   "source": [
    "data['City'].value_counts()"
   ]
  },
  {
   "cell_type": "code",
   "execution_count": 25,
   "metadata": {
    "execution": {
     "iopub.execute_input": "2021-06-16T12:32:07.213093Z",
     "iopub.status.busy": "2021-06-16T12:32:07.212627Z",
     "iopub.status.idle": "2021-06-16T12:32:07.230966Z",
     "shell.execute_reply": "2021-06-16T12:32:07.229892Z",
     "shell.execute_reply.started": "2021-06-16T12:32:07.213050Z"
    }
   },
   "outputs": [],
   "source": [
    "restaurant_stat_data = {\n",
    "'London':        7193,\n",
    "'Paris':        6108,\n",
    "'Madrid':       3813,\n",
    "'Barcelona':    3395,\n",
    "'Berlin'   :     2705,\n",
    "'Milan':         2694,\n",
    "'Rome'  :        2589,\n",
    "'Prague'  :      1816,\n",
    "'Lisbon'   :     1647,\n",
    "'Vienna'   :     1443,\n",
    "'Amsterdam'  :   1372,\n",
    "'Brussels'  :    1314,\n",
    "'Hamburg':      1186,\n",
    "'Munich' :       1145,\n",
    "'Lyon' :         1126,\n",
    "'Stockholm' :    1033,\n",
    "'Budapest':     1021,\n",
    "'Warsaw':         925,\n",
    "'Dublin'  :       836,\n",
    "'Copenhagen':     819,\n",
    "'Athens' :        776,\n",
    "'Edinburgh' :     745,\n",
    "'Zurich':         685,\n",
    "'Oporto' :        642,\n",
    "'Geneva' :        590,\n",
    "'Krakow'  :       554,\n",
    "'Oslo'   :        488,\n",
    "'Helsinki' :      475,\n",
    "'Bratislava' :    380,\n",
    "'Luxembourg' :    263,\n",
    "'Ljubljana'  :    222,\n",
    "}\n",
    "data['Restaurant_count'] = data['City'].map(restaurant_stat_data)"
   ]
  },
  {
   "cell_type": "code",
   "execution_count": 26,
   "metadata": {
    "execution": {
     "iopub.execute_input": "2021-06-16T12:32:11.439662Z",
     "iopub.status.busy": "2021-06-16T12:32:11.439133Z",
     "iopub.status.idle": "2021-06-16T12:32:11.479473Z",
     "shell.execute_reply": "2021-06-16T12:32:11.478043Z",
     "shell.execute_reply.started": "2021-06-16T12:32:11.439618Z"
    }
   },
   "outputs": [],
   "source": [
    "# для One-Hot Encoding в pandas есть готовая функция - get_dummies. Особенно радует параметр dummy_na\n",
    "data = pd.get_dummies(data, columns=[ 'City',], dummy_na=True)"
   ]
  },
  {
   "cell_type": "code",
   "execution_count": 27,
   "metadata": {
    "execution": {
     "iopub.execute_input": "2021-06-16T12:32:12.436044Z",
     "iopub.status.busy": "2021-06-16T12:32:12.435698Z",
     "iopub.status.idle": "2021-06-16T12:32:12.470956Z",
     "shell.execute_reply": "2021-06-16T12:32:12.469788Z",
     "shell.execute_reply.started": "2021-06-16T12:32:12.435986Z"
    }
   },
   "outputs": [
    {
     "data": {
      "text/html": [
       "<div>\n",
       "<style scoped>\n",
       "    .dataframe tbody tr th:only-of-type {\n",
       "        vertical-align: middle;\n",
       "    }\n",
       "\n",
       "    .dataframe tbody tr th {\n",
       "        vertical-align: top;\n",
       "    }\n",
       "\n",
       "    .dataframe thead th {\n",
       "        text-align: right;\n",
       "    }\n",
       "</style>\n",
       "<table border=\"1\" class=\"dataframe\">\n",
       "  <thead>\n",
       "    <tr style=\"text-align: right;\">\n",
       "      <th></th>\n",
       "      <th>Restaurant_id</th>\n",
       "      <th>Cuisine_Style</th>\n",
       "      <th>Ranking</th>\n",
       "      <th>Price_Range</th>\n",
       "      <th>Number_of_Reviews</th>\n",
       "      <th>Reviews</th>\n",
       "      <th>URL_TA</th>\n",
       "      <th>ID_TA</th>\n",
       "      <th>sample</th>\n",
       "      <th>Rating</th>\n",
       "      <th>...</th>\n",
       "      <th>City_Oporto</th>\n",
       "      <th>City_Oslo</th>\n",
       "      <th>City_Paris</th>\n",
       "      <th>City_Prague</th>\n",
       "      <th>City_Rome</th>\n",
       "      <th>City_Stockholm</th>\n",
       "      <th>City_Vienna</th>\n",
       "      <th>City_Warsaw</th>\n",
       "      <th>City_Zurich</th>\n",
       "      <th>City_nan</th>\n",
       "    </tr>\n",
       "  </thead>\n",
       "  <tbody>\n",
       "    <tr>\n",
       "      <th>0</th>\n",
       "      <td>id_0</td>\n",
       "      <td>['Bar', 'Pub']</td>\n",
       "      <td>12963.0</td>\n",
       "      <td>$$ - $$$</td>\n",
       "      <td>4.0</td>\n",
       "      <td>[[], []]</td>\n",
       "      <td>/Restaurant_Review-g187147-d10746918-Reviews-L...</td>\n",
       "      <td>d10746918</td>\n",
       "      <td>0</td>\n",
       "      <td>0.0</td>\n",
       "      <td>...</td>\n",
       "      <td>0</td>\n",
       "      <td>0</td>\n",
       "      <td>1</td>\n",
       "      <td>0</td>\n",
       "      <td>0</td>\n",
       "      <td>0</td>\n",
       "      <td>0</td>\n",
       "      <td>0</td>\n",
       "      <td>0</td>\n",
       "      <td>0</td>\n",
       "    </tr>\n",
       "    <tr>\n",
       "      <th>1</th>\n",
       "      <td>id_1</td>\n",
       "      <td>['European', 'Scandinavian', 'Gluten Free Opti...</td>\n",
       "      <td>106.0</td>\n",
       "      <td>$$ - $$$</td>\n",
       "      <td>97.0</td>\n",
       "      <td>[['Very good reviews!', 'Fine dining in Hakani...</td>\n",
       "      <td>/Restaurant_Review-g189934-d6674944-Reviews-Ra...</td>\n",
       "      <td>d6674944</td>\n",
       "      <td>0</td>\n",
       "      <td>0.0</td>\n",
       "      <td>...</td>\n",
       "      <td>0</td>\n",
       "      <td>0</td>\n",
       "      <td>0</td>\n",
       "      <td>0</td>\n",
       "      <td>0</td>\n",
       "      <td>0</td>\n",
       "      <td>0</td>\n",
       "      <td>0</td>\n",
       "      <td>0</td>\n",
       "      <td>0</td>\n",
       "    </tr>\n",
       "    <tr>\n",
       "      <th>2</th>\n",
       "      <td>id_2</td>\n",
       "      <td>['Vegetarian Friendly']</td>\n",
       "      <td>810.0</td>\n",
       "      <td>$$ - $$$</td>\n",
       "      <td>28.0</td>\n",
       "      <td>[['Better than the Links', 'Ivy Black'], ['12/...</td>\n",
       "      <td>/Restaurant_Review-g186525-d13129638-Reviews-B...</td>\n",
       "      <td>d13129638</td>\n",
       "      <td>0</td>\n",
       "      <td>0.0</td>\n",
       "      <td>...</td>\n",
       "      <td>0</td>\n",
       "      <td>0</td>\n",
       "      <td>0</td>\n",
       "      <td>0</td>\n",
       "      <td>0</td>\n",
       "      <td>0</td>\n",
       "      <td>0</td>\n",
       "      <td>0</td>\n",
       "      <td>0</td>\n",
       "      <td>0</td>\n",
       "    </tr>\n",
       "    <tr>\n",
       "      <th>3</th>\n",
       "      <td>id_3</td>\n",
       "      <td>['Italian', 'Mediterranean', 'European', 'Vege...</td>\n",
       "      <td>1669.0</td>\n",
       "      <td>$$$$</td>\n",
       "      <td>202.0</td>\n",
       "      <td>[['Most exquisite', 'Delicious and authentic']...</td>\n",
       "      <td>/Restaurant_Review-g186338-d680417-Reviews-Qui...</td>\n",
       "      <td>d680417</td>\n",
       "      <td>0</td>\n",
       "      <td>0.0</td>\n",
       "      <td>...</td>\n",
       "      <td>0</td>\n",
       "      <td>0</td>\n",
       "      <td>0</td>\n",
       "      <td>0</td>\n",
       "      <td>0</td>\n",
       "      <td>0</td>\n",
       "      <td>0</td>\n",
       "      <td>0</td>\n",
       "      <td>0</td>\n",
       "      <td>0</td>\n",
       "    </tr>\n",
       "    <tr>\n",
       "      <th>4</th>\n",
       "      <td>id_4</td>\n",
       "      <td>['Italian', 'Mediterranean', 'European', 'Seaf...</td>\n",
       "      <td>37.0</td>\n",
       "      <td>$$$$</td>\n",
       "      <td>162.0</td>\n",
       "      <td>[['Always the best in bratislava', 'Very good ...</td>\n",
       "      <td>/Restaurant_Review-g274924-d1112354-Reviews-Ma...</td>\n",
       "      <td>d1112354</td>\n",
       "      <td>0</td>\n",
       "      <td>0.0</td>\n",
       "      <td>...</td>\n",
       "      <td>0</td>\n",
       "      <td>0</td>\n",
       "      <td>0</td>\n",
       "      <td>0</td>\n",
       "      <td>0</td>\n",
       "      <td>0</td>\n",
       "      <td>0</td>\n",
       "      <td>0</td>\n",
       "      <td>0</td>\n",
       "      <td>0</td>\n",
       "    </tr>\n",
       "  </tbody>\n",
       "</table>\n",
       "<p>5 rows × 46 columns</p>\n",
       "</div>"
      ],
      "text/plain": [
       "  Restaurant_id                                      Cuisine_Style  Ranking  \\\n",
       "0          id_0                                     ['Bar', 'Pub']  12963.0   \n",
       "1          id_1  ['European', 'Scandinavian', 'Gluten Free Opti...    106.0   \n",
       "2          id_2                            ['Vegetarian Friendly']    810.0   \n",
       "3          id_3  ['Italian', 'Mediterranean', 'European', 'Vege...   1669.0   \n",
       "4          id_4  ['Italian', 'Mediterranean', 'European', 'Seaf...     37.0   \n",
       "\n",
       "  Price_Range  Number_of_Reviews  \\\n",
       "0    $$ - $$$                4.0   \n",
       "1    $$ - $$$               97.0   \n",
       "2    $$ - $$$               28.0   \n",
       "3        $$$$              202.0   \n",
       "4        $$$$              162.0   \n",
       "\n",
       "                                             Reviews  \\\n",
       "0                                           [[], []]   \n",
       "1  [['Very good reviews!', 'Fine dining in Hakani...   \n",
       "2  [['Better than the Links', 'Ivy Black'], ['12/...   \n",
       "3  [['Most exquisite', 'Delicious and authentic']...   \n",
       "4  [['Always the best in bratislava', 'Very good ...   \n",
       "\n",
       "                                              URL_TA      ID_TA  sample  \\\n",
       "0  /Restaurant_Review-g187147-d10746918-Reviews-L...  d10746918       0   \n",
       "1  /Restaurant_Review-g189934-d6674944-Reviews-Ra...   d6674944       0   \n",
       "2  /Restaurant_Review-g186525-d13129638-Reviews-B...  d13129638       0   \n",
       "3  /Restaurant_Review-g186338-d680417-Reviews-Qui...    d680417       0   \n",
       "4  /Restaurant_Review-g274924-d1112354-Reviews-Ma...   d1112354       0   \n",
       "\n",
       "   Rating  ...  City_Oporto  City_Oslo  City_Paris  City_Prague  City_Rome  \\\n",
       "0     0.0  ...            0          0           1            0          0   \n",
       "1     0.0  ...            0          0           0            0          0   \n",
       "2     0.0  ...            0          0           0            0          0   \n",
       "3     0.0  ...            0          0           0            0          0   \n",
       "4     0.0  ...            0          0           0            0          0   \n",
       "\n",
       "   City_Stockholm  City_Vienna  City_Warsaw  City_Zurich  City_nan  \n",
       "0               0            0            0            0         0  \n",
       "1               0            0            0            0         0  \n",
       "2               0            0            0            0         0  \n",
       "3               0            0            0            0         0  \n",
       "4               0            0            0            0         0  \n",
       "\n",
       "[5 rows x 46 columns]"
      ]
     },
     "execution_count": 27,
     "metadata": {},
     "output_type": "execute_result"
    }
   ],
   "source": [
    "data.head(5)"
   ]
  },
  {
   "cell_type": "code",
   "execution_count": 28,
   "metadata": {
    "execution": {
     "iopub.execute_input": "2021-06-16T12:32:22.347684Z",
     "iopub.status.busy": "2021-06-16T12:32:22.347284Z",
     "iopub.status.idle": "2021-06-16T12:32:22.396741Z",
     "shell.execute_reply": "2021-06-16T12:32:22.395607Z",
     "shell.execute_reply.started": "2021-06-16T12:32:22.347622Z"
    }
   },
   "outputs": [
    {
     "data": {
      "text/html": [
       "<div>\n",
       "<style scoped>\n",
       "    .dataframe tbody tr th:only-of-type {\n",
       "        vertical-align: middle;\n",
       "    }\n",
       "\n",
       "    .dataframe tbody tr th {\n",
       "        vertical-align: top;\n",
       "    }\n",
       "\n",
       "    .dataframe thead th {\n",
       "        text-align: right;\n",
       "    }\n",
       "</style>\n",
       "<table border=\"1\" class=\"dataframe\">\n",
       "  <thead>\n",
       "    <tr style=\"text-align: right;\">\n",
       "      <th></th>\n",
       "      <th>Restaurant_id</th>\n",
       "      <th>Cuisine_Style</th>\n",
       "      <th>Ranking</th>\n",
       "      <th>Price_Range</th>\n",
       "      <th>Number_of_Reviews</th>\n",
       "      <th>Reviews</th>\n",
       "      <th>URL_TA</th>\n",
       "      <th>ID_TA</th>\n",
       "      <th>sample</th>\n",
       "      <th>Rating</th>\n",
       "      <th>...</th>\n",
       "      <th>City_Oporto</th>\n",
       "      <th>City_Oslo</th>\n",
       "      <th>City_Paris</th>\n",
       "      <th>City_Prague</th>\n",
       "      <th>City_Rome</th>\n",
       "      <th>City_Stockholm</th>\n",
       "      <th>City_Vienna</th>\n",
       "      <th>City_Warsaw</th>\n",
       "      <th>City_Zurich</th>\n",
       "      <th>City_nan</th>\n",
       "    </tr>\n",
       "  </thead>\n",
       "  <tbody>\n",
       "    <tr>\n",
       "      <th>47714</th>\n",
       "      <td>id_212</td>\n",
       "      <td>['French', 'European', 'Gluten Free Options']</td>\n",
       "      <td>213.0</td>\n",
       "      <td>$$ - $$$</td>\n",
       "      <td>433.0</td>\n",
       "      <td>[['The Best Value in Paris', 'Excellent French...</td>\n",
       "      <td>/Restaurant_Review-g187147-d2192483-Reviews-Le...</td>\n",
       "      <td>d2192483</td>\n",
       "      <td>1</td>\n",
       "      <td>4.5</td>\n",
       "      <td>...</td>\n",
       "      <td>0</td>\n",
       "      <td>0</td>\n",
       "      <td>1</td>\n",
       "      <td>0</td>\n",
       "      <td>0</td>\n",
       "      <td>0</td>\n",
       "      <td>0</td>\n",
       "      <td>0</td>\n",
       "      <td>0</td>\n",
       "      <td>0</td>\n",
       "    </tr>\n",
       "    <tr>\n",
       "      <th>45546</th>\n",
       "      <td>id_8428</td>\n",
       "      <td>['Chinese']</td>\n",
       "      <td>8430.0</td>\n",
       "      <td>$$ - $$$</td>\n",
       "      <td>22.0</td>\n",
       "      <td>[['Just like in China- original taste and gen....</td>\n",
       "      <td>/Restaurant_Review-g187147-d5796796-Reviews-Ti...</td>\n",
       "      <td>d5796796</td>\n",
       "      <td>1</td>\n",
       "      <td>4.0</td>\n",
       "      <td>...</td>\n",
       "      <td>0</td>\n",
       "      <td>0</td>\n",
       "      <td>1</td>\n",
       "      <td>0</td>\n",
       "      <td>0</td>\n",
       "      <td>0</td>\n",
       "      <td>0</td>\n",
       "      <td>0</td>\n",
       "      <td>0</td>\n",
       "      <td>0</td>\n",
       "    </tr>\n",
       "    <tr>\n",
       "      <th>2406</th>\n",
       "      <td>id_2406</td>\n",
       "      <td>['Spanish']</td>\n",
       "      <td>3709.0</td>\n",
       "      <td>$</td>\n",
       "      <td>6.0</td>\n",
       "      <td>[[], []]</td>\n",
       "      <td>/Restaurant_Review-g187497-d10428955-Reviews-E...</td>\n",
       "      <td>d10428955</td>\n",
       "      <td>0</td>\n",
       "      <td>0.0</td>\n",
       "      <td>...</td>\n",
       "      <td>0</td>\n",
       "      <td>0</td>\n",
       "      <td>0</td>\n",
       "      <td>0</td>\n",
       "      <td>0</td>\n",
       "      <td>0</td>\n",
       "      <td>0</td>\n",
       "      <td>0</td>\n",
       "      <td>0</td>\n",
       "      <td>0</td>\n",
       "    </tr>\n",
       "    <tr>\n",
       "      <th>20116</th>\n",
       "      <td>id_5854</td>\n",
       "      <td>European</td>\n",
       "      <td>5855.0</td>\n",
       "      <td>$$ - $$$</td>\n",
       "      <td>1.0</td>\n",
       "      <td>[['Nice coffee shop'], ['10/22/2017']]</td>\n",
       "      <td>/Restaurant_Review-g187497-d13073178-Reviews-E...</td>\n",
       "      <td>d13073178</td>\n",
       "      <td>1</td>\n",
       "      <td>4.0</td>\n",
       "      <td>...</td>\n",
       "      <td>0</td>\n",
       "      <td>0</td>\n",
       "      <td>0</td>\n",
       "      <td>0</td>\n",
       "      <td>0</td>\n",
       "      <td>0</td>\n",
       "      <td>0</td>\n",
       "      <td>0</td>\n",
       "      <td>0</td>\n",
       "      <td>0</td>\n",
       "    </tr>\n",
       "    <tr>\n",
       "      <th>32009</th>\n",
       "      <td>id_1483</td>\n",
       "      <td>['Cafe']</td>\n",
       "      <td>1487.0</td>\n",
       "      <td>$$ - $$$</td>\n",
       "      <td>26.0</td>\n",
       "      <td>[['Best chicken burger in dublin', 'Pleasant e...</td>\n",
       "      <td>/Restaurant_Review-g186605-d945084-Reviews-Mun...</td>\n",
       "      <td>d945084</td>\n",
       "      <td>1</td>\n",
       "      <td>4.0</td>\n",
       "      <td>...</td>\n",
       "      <td>0</td>\n",
       "      <td>0</td>\n",
       "      <td>0</td>\n",
       "      <td>0</td>\n",
       "      <td>0</td>\n",
       "      <td>0</td>\n",
       "      <td>0</td>\n",
       "      <td>0</td>\n",
       "      <td>0</td>\n",
       "      <td>0</td>\n",
       "    </tr>\n",
       "  </tbody>\n",
       "</table>\n",
       "<p>5 rows × 46 columns</p>\n",
       "</div>"
      ],
      "text/plain": [
       "      Restaurant_id                                  Cuisine_Style  Ranking  \\\n",
       "47714        id_212  ['French', 'European', 'Gluten Free Options']    213.0   \n",
       "45546       id_8428                                    ['Chinese']   8430.0   \n",
       "2406        id_2406                                    ['Spanish']   3709.0   \n",
       "20116       id_5854                                       European   5855.0   \n",
       "32009       id_1483                                       ['Cafe']   1487.0   \n",
       "\n",
       "      Price_Range  Number_of_Reviews  \\\n",
       "47714    $$ - $$$              433.0   \n",
       "45546    $$ - $$$               22.0   \n",
       "2406            $                6.0   \n",
       "20116    $$ - $$$                1.0   \n",
       "32009    $$ - $$$               26.0   \n",
       "\n",
       "                                                 Reviews  \\\n",
       "47714  [['The Best Value in Paris', 'Excellent French...   \n",
       "45546  [['Just like in China- original taste and gen....   \n",
       "2406                                            [[], []]   \n",
       "20116             [['Nice coffee shop'], ['10/22/2017']]   \n",
       "32009  [['Best chicken burger in dublin', 'Pleasant e...   \n",
       "\n",
       "                                                  URL_TA      ID_TA  sample  \\\n",
       "47714  /Restaurant_Review-g187147-d2192483-Reviews-Le...   d2192483       1   \n",
       "45546  /Restaurant_Review-g187147-d5796796-Reviews-Ti...   d5796796       1   \n",
       "2406   /Restaurant_Review-g187497-d10428955-Reviews-E...  d10428955       0   \n",
       "20116  /Restaurant_Review-g187497-d13073178-Reviews-E...  d13073178       1   \n",
       "32009  /Restaurant_Review-g186605-d945084-Reviews-Mun...    d945084       1   \n",
       "\n",
       "       Rating  ...  City_Oporto  City_Oslo  City_Paris  City_Prague  \\\n",
       "47714     4.5  ...            0          0           1            0   \n",
       "45546     4.0  ...            0          0           1            0   \n",
       "2406      0.0  ...            0          0           0            0   \n",
       "20116     4.0  ...            0          0           0            0   \n",
       "32009     4.0  ...            0          0           0            0   \n",
       "\n",
       "       City_Rome  City_Stockholm  City_Vienna  City_Warsaw  City_Zurich  \\\n",
       "47714          0               0            0            0            0   \n",
       "45546          0               0            0            0            0   \n",
       "2406           0               0            0            0            0   \n",
       "20116          0               0            0            0            0   \n",
       "32009          0               0            0            0            0   \n",
       "\n",
       "       City_nan  \n",
       "47714         0  \n",
       "45546         0  \n",
       "2406          0  \n",
       "20116         0  \n",
       "32009         0  \n",
       "\n",
       "[5 rows x 46 columns]"
      ]
     },
     "execution_count": 28,
     "metadata": {},
     "output_type": "execute_result"
    }
   ],
   "source": [
    "data.sample(5)"
   ]
  },
  {
   "cell_type": "markdown",
   "metadata": {},
   "source": [
    "#### Возьмем следующий признак \"Price Range\"."
   ]
  },
  {
   "cell_type": "markdown",
   "metadata": {},
   "source": [
    "По описанию 'Price Range' это - Цены в ресторане.  \n",
    "Их можно поставить по возрастанию (значит это не категориальный признак). А это значит, что их можно заменить последовательными числами, например 1,2,3  \n",
    "*Попробуйте сделать обработку этого признака уже самостоятельно!*"
   ]
  },
  {
   "cell_type": "code",
   "execution_count": 29,
   "metadata": {
    "execution": {
     "iopub.execute_input": "2021-06-16T12:32:27.561752Z",
     "iopub.status.busy": "2021-06-16T12:32:27.561414Z",
     "iopub.status.idle": "2021-06-16T12:32:27.632299Z",
     "shell.execute_reply": "2021-06-16T12:32:27.630813Z",
     "shell.execute_reply.started": "2021-06-16T12:32:27.561696Z"
    }
   },
   "outputs": [],
   "source": [
    "# Ваша обработка 'Price Range'\n",
    "# создадим словарь и подставим значения из него\n",
    "price_range_dict = {'$': 0, '$$ - $$$': 1, '$$$$': 2}\n",
    "data = data.replace({'Price_Range': price_range_dict})\n",
    "data = pd.get_dummies(data, columns=['Price_Range'], dummy_na=False)"
   ]
  },
  {
   "cell_type": "markdown",
   "metadata": {},
   "source": [
    "> Для некоторых алгоритмов МЛ даже для не категориальных признаков можно применить One-Hot Encoding, и это может улучшить качество модели. Пробуйте разные подходы к кодированию признака - никто не знает заранее, что может взлететь."
   ]
  },
  {
   "cell_type": "markdown",
   "metadata": {},
   "source": [
    "### Обработать другие признаки вы должны самостоятельно!\n",
    "Для обработки других признаков вам возможно придется даже написать свою функцию, а может даже и не одну, но в этом и есть ваша практика в этом модуле!     \n",
    "Следуя подсказкам в модуле вы сможете более подробно узнать, как сделать эти приобразования."
   ]
  },
  {
   "cell_type": "code",
   "execution_count": 30,
   "metadata": {
    "execution": {
     "iopub.status.busy": "2021-06-16T11:28:34.175726Z",
     "iopub.status.idle": "2021-06-16T11:28:34.176071Z"
    }
   },
   "outputs": [],
   "source": [
    "# тут ваш код на обработку других признаков\n",
    "# ....."
   ]
  },
  {
   "cell_type": "code",
   "execution_count": 31,
   "metadata": {
    "execution": {
     "iopub.execute_input": "2021-06-16T12:32:32.478216Z",
     "iopub.status.busy": "2021-06-16T12:32:32.477888Z",
     "iopub.status.idle": "2021-06-16T12:32:32.618296Z",
     "shell.execute_reply": "2021-06-16T12:32:32.617108Z",
     "shell.execute_reply.started": "2021-06-16T12:32:32.478159Z"
    }
   },
   "outputs": [
    {
     "data": {
      "text/plain": [
       "2.62532"
      ]
     },
     "execution_count": 31,
     "metadata": {},
     "output_type": "execute_result"
    }
   ],
   "source": [
    "data['Cuisine_Style'] = data['Cuisine_Style'].str[2:-2].str.split(\"', '\")\n",
    "# сгенерируем новый признак кол-во кухонь в ресторане\n",
    "data['Cuisine_Style_count'] = data['Cuisine_Style'].str.len()\n",
    "# среднее количество кухонь предлагаемых в одном ресторане\n",
    "data['Cuisine_Style_count'].mean()"
   ]
  },
  {
   "cell_type": "code",
   "execution_count": 32,
   "metadata": {
    "execution": {
     "iopub.execute_input": "2021-06-16T12:32:36.509487Z",
     "iopub.status.busy": "2021-06-16T12:32:36.509122Z",
     "iopub.status.idle": "2021-06-16T12:32:36.564442Z",
     "shell.execute_reply": "2021-06-16T12:32:36.563350Z",
     "shell.execute_reply.started": "2021-06-16T12:32:36.509430Z"
    }
   },
   "outputs": [],
   "source": [
    "data['ID_TA_Code'] = data['ID_TA'].apply(lambda x: int(x[1:]))"
   ]
  },
  {
   "cell_type": "code",
   "execution_count": 33,
   "metadata": {
    "execution": {
     "iopub.execute_input": "2021-06-16T12:32:44.990341Z",
     "iopub.status.busy": "2021-06-16T12:32:44.989954Z",
     "iopub.status.idle": "2021-06-16T12:32:52.351769Z",
     "shell.execute_reply": "2021-06-16T12:32:52.350754Z",
     "shell.execute_reply.started": "2021-06-16T12:32:44.990281Z"
    }
   },
   "outputs": [],
   "source": [
    "# Теперь поработаем с самым засоренным признаком Reviews\n",
    "def return_review_date(row, mode='newest'):\n",
    "    str_review = ast.literal_eval(str(row['Reviews']).replace('nan', '0'))\n",
    "    if str_review == [[], []]:\n",
    "        return 'NaN'\n",
    "    elif len(str_review[1]) == 1:\n",
    "        return(datetime.strptime(str_review[1][0], '%m/%d/%Y'))\n",
    "    else:\n",
    "        first_review_time = datetime.strptime(str_review[1][0], '%m/%d/%Y')\n",
    "        second_review_time = datetime.strptime(str_review[1][1], '%m/%d/%Y')\n",
    "        if mode == 'newest':\n",
    "            return max(second_review_time, first_review_time)\n",
    "        else:\n",
    "            return min(second_review_time, first_review_time)\n",
    "\n",
    "# заполним даты отзывов\n",
    "\n",
    "\n",
    "data['newest_review_date'] = data.apply(\n",
    "    lambda row: return_review_date(row, mode='newest'), axis=1)\n",
    "data['eldest_review_date'] = data.apply(\n",
    "    lambda row: return_review_date(row, mode='eldest'), axis=1)"
   ]
  },
  {
   "cell_type": "code",
   "execution_count": 34,
   "metadata": {
    "execution": {
     "iopub.execute_input": "2021-06-16T12:32:56.021542Z",
     "iopub.status.busy": "2021-06-16T12:32:56.021197Z",
     "iopub.status.idle": "2021-06-16T12:32:56.029190Z",
     "shell.execute_reply": "2021-06-16T12:32:56.027875Z",
     "shell.execute_reply.started": "2021-06-16T12:32:56.021488Z"
    }
   },
   "outputs": [],
   "source": [
    "# создадим признак для ресторанов, у которых нет отзывов\n",
    "data['is_nan_reviews'] = pd.isna(data['newest_review_date']).astype('float64')"
   ]
  },
  {
   "cell_type": "code",
   "execution_count": 35,
   "metadata": {
    "execution": {
     "iopub.execute_input": "2021-06-16T12:32:58.521438Z",
     "iopub.status.busy": "2021-06-16T12:32:58.521088Z",
     "iopub.status.idle": "2021-06-16T12:32:58.529361Z",
     "shell.execute_reply": "2021-06-16T12:32:58.528567Z",
     "shell.execute_reply.started": "2021-06-16T12:32:58.521383Z"
    }
   },
   "outputs": [
    {
     "data": {
      "text/plain": [
       "Timestamp('2018-02-26 00:00:00')"
      ]
     },
     "execution_count": 35,
     "metadata": {},
     "output_type": "execute_result"
    }
   ],
   "source": [
    "# посмотрим на дату самого свежего отзыва\n",
    "newest_review_date = data['newest_review_date'].max()\n",
    "newest_review_date"
   ]
  },
  {
   "cell_type": "code",
   "execution_count": 36,
   "metadata": {
    "execution": {
     "iopub.execute_input": "2021-06-16T12:33:01.070870Z",
     "iopub.status.busy": "2021-06-16T12:33:01.070190Z",
     "iopub.status.idle": "2021-06-16T12:33:01.077966Z",
     "shell.execute_reply": "2021-06-16T12:33:01.077275Z",
     "shell.execute_reply.started": "2021-06-16T12:33:01.070819Z"
    }
   },
   "outputs": [
    {
     "data": {
      "text/plain": [
       "Timestamp('2004-04-21 00:00:00')"
      ]
     },
     "execution_count": 36,
     "metadata": {},
     "output_type": "execute_result"
    }
   ],
   "source": [
    "# посмотрим на дату самого старого отзыва\n",
    "oldest_review_date = data['eldest_review_date'].min()\n",
    "oldest_review_date"
   ]
  },
  {
   "cell_type": "code",
   "execution_count": 37,
   "metadata": {
    "execution": {
     "iopub.execute_input": "2021-06-16T12:33:03.167463Z",
     "iopub.status.busy": "2021-06-16T12:33:03.167000Z",
     "iopub.status.idle": "2021-06-16T12:33:03.175667Z",
     "shell.execute_reply": "2021-06-16T12:33:03.174915Z",
     "shell.execute_reply.started": "2021-06-16T12:33:03.167379Z"
    }
   },
   "outputs": [],
   "source": [
    "# для ресторанов без отзывов добавим минимальную дату\n",
    "data['newest_review_date'].fillna(oldest_review_date, inplace=True)\n",
    "data['eldest_review_date'].fillna(oldest_review_date, inplace=True)"
   ]
  },
  {
   "cell_type": "markdown",
   "metadata": {},
   "source": [
    "![](https://cs10.pikabu.ru/post_img/2018/09/06/11/1536261023140110012.jpg)"
   ]
  },
  {
   "cell_type": "markdown",
   "metadata": {},
   "source": [
    "# EDA \n",
    "[Exploratory Data Analysis](https://ru.wikipedia.org/wiki/Разведочный_анализ_данных) - Анализ данных\n",
    "На этом этапе мы строим графики, ищем закономерности, аномалии, выбросы или связи между признаками.\n",
    "В общем цель этого этапа понять, что эти данные могут нам дать и как признаки могут быть взаимосвязаны между собой.\n",
    "Понимание изначальных признаков позволит сгенерировать новые, более сильные и, тем самым, сделать нашу модель лучше.\n",
    "![](https://miro.medium.com/max/2598/1*RXdMb7Uk6mGqWqPguHULaQ.png)"
   ]
  },
  {
   "cell_type": "markdown",
   "metadata": {},
   "source": [
    "### Посмотрим распределение признака"
   ]
  },
  {
   "cell_type": "code",
   "execution_count": 38,
   "metadata": {
    "execution": {
     "iopub.status.busy": "2021-06-16T11:28:34.176883Z",
     "iopub.status.idle": "2021-06-16T11:28:34.177218Z"
    }
   },
   "outputs": [
    {
     "data": {
      "text/plain": [
       "<matplotlib.axes._subplots.AxesSubplot at 0x7f92882181d0>"
      ]
     },
     "execution_count": 38,
     "metadata": {},
     "output_type": "execute_result"
    },
    {
     "data": {
      "image/png": "[encoded data removed]",
      "text/plain": [
       "<Figure size 720x504 with 1 Axes>"
      ]
     },
     "metadata": {
      "needs_background": "light"
     },
     "output_type": "display_data"
    }
   ],
   "source": [
    "plt.rcParams['figure.figsize'] = (10,7)\n",
    "df_train['Ranking'].hist(bins=100)"
   ]
  },
  {
   "cell_type": "markdown",
   "metadata": {},
   "source": [
    "У нас много ресторанов, которые не дотягивают и до 2500 места в своем городе, а что там по городам?"
   ]
  },
  {
   "cell_type": "code",
   "execution_count": 39,
   "metadata": {
    "execution": {
     "iopub.execute_input": "2021-06-16T11:41:04.147114Z",
     "iopub.status.busy": "2021-06-16T11:41:04.146636Z",
     "iopub.status.idle": "2021-06-16T11:41:04.525758Z",
     "shell.execute_reply": "2021-06-16T11:41:04.525090Z",
     "shell.execute_reply.started": "2021-06-16T11:41:04.147067Z"
    }
   },
   "outputs": [
    {
     "data": {
      "text/plain": [
       "<matplotlib.axes._subplots.AxesSubplot at 0x7f9292cf7d68>"
      ]
     },
     "execution_count": 39,
     "metadata": {},
     "output_type": "execute_result"
    },
    {
     "data": {
      "image/png": "[encoded data removed]",
      "text/plain": [
       "<Figure size 720x504 with 1 Axes>"
      ]
     },
     "metadata": {
      "needs_background": "light"
     },
     "output_type": "display_data"
    }
   ],
   "source": [
    "df_train['City'].value_counts(ascending=True).plot(kind='barh')"
   ]
  },
  {
   "cell_type": "markdown",
   "metadata": {},
   "source": [
    "А кто-то говорил, что французы любят поесть=) Посмотрим, как изменится распределение в большом городе:"
   ]
  },
  {
   "cell_type": "code",
   "execution_count": 40,
   "metadata": {
    "execution": {
     "iopub.status.busy": "2021-06-16T11:28:34.17912Z",
     "iopub.status.idle": "2021-06-16T11:28:34.179488Z"
    }
   },
   "outputs": [
    {
     "data": {
      "text/plain": [
       "<matplotlib.axes._subplots.AxesSubplot at 0x7f9292d16e10>"
      ]
     },
     "execution_count": 40,
     "metadata": {},
     "output_type": "execute_result"
    },
    {
     "data": {
      "image/png": "[encoded data removed]",
      "text/plain": [
       "<Figure size 720x504 with 1 Axes>"
      ]
     },
     "metadata": {
      "needs_background": "light"
     },
     "output_type": "display_data"
    }
   ],
   "source": [
    "df_train['Ranking'][df_train['City'] =='London'].hist(bins=100)"
   ]
  },
  {
   "cell_type": "code",
   "execution_count": 41,
   "metadata": {
    "execution": {
     "iopub.status.busy": "2021-06-16T11:28:34.180299Z",
     "iopub.status.idle": "2021-06-16T11:28:34.180624Z"
    }
   },
   "outputs": [
    {
     "data": {
      "image/png": "[encoded data removed]",
      "text/plain": [
       "<Figure size 720x504 with 1 Axes>"
      ]
     },
     "metadata": {
      "needs_background": "light"
     },
     "output_type": "display_data"
    }
   ],
   "source": [
    "# посмотрим на топ 10 городов\n",
    "for x in (df_train['City'].value_counts())[0:10].index:\n",
    "    df_train['Ranking'][df_train['City'] == x].hist(bins=100)\n",
    "plt.show()"
   ]
  },
  {
   "cell_type": "markdown",
   "metadata": {},
   "source": [
    "Получается, что Ranking имеет нормальное распределение, просто в больших городах больше ресторанов, из-за мы этого имеем смещение.\n",
    "\n",
    ">Подумайте как из этого можно сделать признак для вашей модели. Я покажу вам пример, как визуализация помогает находить взаимосвязи. А далее действуйте без подсказок =) \n"
   ]
  },
  {
   "cell_type": "markdown",
   "metadata": {},
   "source": [
    "### Посмотрим распределение целевой переменной"
   ]
  },
  {
   "cell_type": "code",
   "execution_count": 42,
   "metadata": {
    "execution": {
     "iopub.status.busy": "2021-06-16T11:28:34.181434Z",
     "iopub.status.idle": "2021-06-16T11:28:34.181812Z"
    }
   },
   "outputs": [
    {
     "data": {
      "text/plain": [
       "<matplotlib.axes._subplots.AxesSubplot at 0x7f926e30b710>"
      ]
     },
     "execution_count": 42,
     "metadata": {},
     "output_type": "execute_result"
    },
    {
     "data": {
      "image/png": "[encoded data removed]",
      "text/plain": [
       "<Figure size 720x504 with 1 Axes>"
      ]
     },
     "metadata": {
      "needs_background": "light"
     },
     "output_type": "display_data"
    }
   ],
   "source": [
    "df_train['Rating'].value_counts(ascending=True).plot(kind='barh')"
   ]
  },
  {
   "cell_type": "markdown",
   "metadata": {},
   "source": [
    "### Посмотрим распределение целевой переменной относительно признака"
   ]
  },
  {
   "cell_type": "code",
   "execution_count": 43,
   "metadata": {
    "execution": {
     "iopub.status.busy": "2021-06-16T11:28:34.183321Z",
     "iopub.status.idle": "2021-06-16T11:28:34.183789Z"
    }
   },
   "outputs": [
    {
     "data": {
      "text/plain": [
       "<matplotlib.axes._subplots.AxesSubplot at 0x7f926f29d940>"
      ]
     },
     "execution_count": 43,
     "metadata": {},
     "output_type": "execute_result"
    },
    {
     "data": {
      "image/png": "[encoded data removed]",
      "text/plain": [
       "<Figure size 720x504 with 1 Axes>"
      ]
     },
     "metadata": {
      "needs_background": "light"
     },
     "output_type": "display_data"
    }
   ],
   "source": [
    "df_train['Ranking'][df_train['Rating'] == 5].hist(bins=100)"
   ]
  },
  {
   "cell_type": "code",
   "execution_count": 44,
   "metadata": {
    "execution": {
     "iopub.status.busy": "2021-06-16T11:28:34.184894Z",
     "iopub.status.idle": "2021-06-16T11:28:34.185472Z"
    }
   },
   "outputs": [
    {
     "data": {
      "text/plain": [
       "<matplotlib.axes._subplots.AxesSubplot at 0x7f926f14f240>"
      ]
     },
     "execution_count": 44,
     "metadata": {},
     "output_type": "execute_result"
    },
    {
     "data": {
      "image/png": "[encoded data removed]",
      "text/plain": [
       "<Figure size 720x504 with 1 Axes>"
      ]
     },
     "metadata": {
      "needs_background": "light"
     },
     "output_type": "display_data"
    }
   ],
   "source": [
    "df_train['Ranking'][df_train['Rating'] < 4].hist(bins=100)"
   ]
  },
  {
   "cell_type": "markdown",
   "metadata": {},
   "source": [
    "### И один из моих любимых - [корреляция признаков](https://ru.wikipedia.org/wiki/Корреляция)\n",
    "На этом графике уже сейчас вы сможете заметить, как признаки связаны между собой и с целевой переменной."
   ]
  },
  {
   "cell_type": "code",
   "execution_count": 45,
   "metadata": {
    "execution": {
     "iopub.status.busy": "2021-06-16T11:28:34.186781Z",
     "iopub.status.idle": "2021-06-16T11:28:34.187371Z"
    }
   },
   "outputs": [
    {
     "data": {
      "text/plain": [
       "<matplotlib.axes._subplots.AxesSubplot at 0x7f926f07b828>"
      ]
     },
     "execution_count": 45,
     "metadata": {},
     "output_type": "execute_result"
    },
    {
     "data": {
      "image/png": "[encoded data removed]",
      "text/plain": [
       "<Figure size 1080x720 with 2 Axes>"
      ]
     },
     "metadata": {
      "needs_background": "light"
     },
     "output_type": "display_data"
    }
   ],
   "source": [
    "plt.rcParams['figure.figsize'] = (15,10)\n",
    "sns.heatmap(data.drop(['sample'], axis=1).corr(),)"
   ]
  },
  {
   "cell_type": "markdown",
   "metadata": {},
   "source": [
    "Вообще благодаря визуализации в этом датасете можно узнать много интересных фактов, например:\n",
    "* где больше Пицерий в Мадриде или Лондоне?\n",
    "* в каком городе кухня ресторанов более разнообразна?\n",
    "\n",
    "придумайте свои вопрос и найдите на него ответ в данных)"
   ]
  },
  {
   "cell_type": "markdown",
   "metadata": {},
   "source": [
    "# Data Preprocessing\n",
    "Теперь, для удобства и воспроизводимости кода, завернем всю обработку в одну большую функцию."
   ]
  },
  {
   "cell_type": "code",
   "execution_count": 46,
   "metadata": {
    "execution": {
     "iopub.execute_input": "2021-06-16T12:33:21.880037Z",
     "iopub.status.busy": "2021-06-16T12:33:21.879537Z",
     "iopub.status.idle": "2021-06-16T12:33:21.923258Z",
     "shell.execute_reply": "2021-06-16T12:33:21.922409Z",
     "shell.execute_reply.started": "2021-06-16T12:33:21.879992Z"
    }
   },
   "outputs": [],
   "source": [
    "df_preproc = data.copy()\n",
    "df_preproc.drop(['Restaurant_id', 'ID_TA', ], axis=1, inplace=True)\n",
    "df_preproc = df_preproc.select_dtypes(exclude=['object', 'datetime64[ns]'])"
   ]
  },
  {
   "cell_type": "code",
   "execution_count": 47,
   "metadata": {
    "execution": {
     "iopub.execute_input": "2021-06-16T12:33:24.601694Z",
     "iopub.status.busy": "2021-06-16T12:33:24.601356Z",
     "iopub.status.idle": "2021-06-16T12:33:24.623114Z",
     "shell.execute_reply": "2021-06-16T12:33:24.621927Z",
     "shell.execute_reply.started": "2021-06-16T12:33:24.601640Z"
    }
   },
   "outputs": [
    {
     "name": "stdout",
     "output_type": "stream",
     "text": [
      "<class 'pandas.core.frame.DataFrame'>\n",
      "RangeIndex: 50000 entries, 0 to 49999\n",
      "Data columns (total 46 columns):\n",
      "Ranking                    50000 non-null float64\n",
      "Number_of_Reviews          50000 non-null float64\n",
      "sample                     50000 non-null int64\n",
      "Rating                     50000 non-null float64\n",
      "Number_of_Reviews_isNAN    50000 non-null uint8\n",
      "Cuisine_Style_isNAN        50000 non-null uint8\n",
      "Price_Range_isNAN          50000 non-null uint8\n",
      "Restaurant_count           50000 non-null int64\n",
      "City_Amsterdam             50000 non-null uint8\n",
      "City_Athens                50000 non-null uint8\n",
      "City_Barcelona             50000 non-null uint8\n",
      "City_Berlin                50000 non-null uint8\n",
      "City_Bratislava            50000 non-null uint8\n",
      "City_Brussels              50000 non-null uint8\n",
      "City_Budapest              50000 non-null uint8\n",
      "City_Copenhagen            50000 non-null uint8\n",
      "City_Dublin                50000 non-null uint8\n",
      "City_Edinburgh             50000 non-null uint8\n",
      "City_Geneva                50000 non-null uint8\n",
      "City_Hamburg               50000 non-null uint8\n",
      "City_Helsinki              50000 non-null uint8\n",
      "City_Krakow                50000 non-null uint8\n",
      "City_Lisbon                50000 non-null uint8\n",
      "City_Ljubljana             50000 non-null uint8\n",
      "City_London                50000 non-null uint8\n",
      "City_Luxembourg            50000 non-null uint8\n",
      "City_Lyon                  50000 non-null uint8\n",
      "City_Madrid                50000 non-null uint8\n",
      "City_Milan                 50000 non-null uint8\n",
      "City_Munich                50000 non-null uint8\n",
      "City_Oporto                50000 non-null uint8\n",
      "City_Oslo                  50000 non-null uint8\n",
      "City_Paris                 50000 non-null uint8\n",
      "City_Prague                50000 non-null uint8\n",
      "City_Rome                  50000 non-null uint8\n",
      "City_Stockholm             50000 non-null uint8\n",
      "City_Vienna                50000 non-null uint8\n",
      "City_Warsaw                50000 non-null uint8\n",
      "City_Zurich                50000 non-null uint8\n",
      "City_nan                   50000 non-null uint8\n",
      "Price_Range_0              50000 non-null uint8\n",
      "Price_Range_1              50000 non-null uint8\n",
      "Price_Range_2              50000 non-null uint8\n",
      "Cuisine_Style_count        50000 non-null int64\n",
      "ID_TA_Code                 50000 non-null int64\n",
      "is_nan_reviews             50000 non-null float64\n",
      "dtypes: float64(4), int64(4), uint8(38)\n",
      "memory usage: 4.9 MB\n"
     ]
    }
   ],
   "source": [
    "df_preproc.info()"
   ]
  },
  {
   "cell_type": "code",
   "execution_count": 48,
   "metadata": {
    "execution": {
     "iopub.execute_input": "2021-06-16T12:33:35.461381Z",
     "iopub.status.busy": "2021-06-16T12:33:35.460991Z",
     "iopub.status.idle": "2021-06-16T12:33:35.495651Z",
     "shell.execute_reply": "2021-06-16T12:33:35.494941Z",
     "shell.execute_reply.started": "2021-06-16T12:33:35.461326Z"
    }
   },
   "outputs": [
    {
     "data": {
      "text/html": [
       "<div>\n",
       "<style scoped>\n",
       "    .dataframe tbody tr th:only-of-type {\n",
       "        vertical-align: middle;\n",
       "    }\n",
       "\n",
       "    .dataframe tbody tr th {\n",
       "        vertical-align: top;\n",
       "    }\n",
       "\n",
       "    .dataframe thead th {\n",
       "        text-align: right;\n",
       "    }\n",
       "</style>\n",
       "<table border=\"1\" class=\"dataframe\">\n",
       "  <thead>\n",
       "    <tr style=\"text-align: right;\">\n",
       "      <th></th>\n",
       "      <th>Ranking</th>\n",
       "      <th>Number_of_Reviews</th>\n",
       "      <th>sample</th>\n",
       "      <th>Rating</th>\n",
       "      <th>Number_of_Reviews_isNAN</th>\n",
       "      <th>Cuisine_Style_isNAN</th>\n",
       "      <th>Price_Range_isNAN</th>\n",
       "      <th>Restaurant_count</th>\n",
       "      <th>City_Amsterdam</th>\n",
       "      <th>City_Athens</th>\n",
       "      <th>...</th>\n",
       "      <th>City_Vienna</th>\n",
       "      <th>City_Warsaw</th>\n",
       "      <th>City_Zurich</th>\n",
       "      <th>City_nan</th>\n",
       "      <th>Price_Range_0</th>\n",
       "      <th>Price_Range_1</th>\n",
       "      <th>Price_Range_2</th>\n",
       "      <th>Cuisine_Style_count</th>\n",
       "      <th>ID_TA_Code</th>\n",
       "      <th>is_nan_reviews</th>\n",
       "    </tr>\n",
       "  </thead>\n",
       "  <tbody>\n",
       "    <tr>\n",
       "      <th>41736</th>\n",
       "      <td>11208.0</td>\n",
       "      <td>9.0</td>\n",
       "      <td>1</td>\n",
       "      <td>4.0</td>\n",
       "      <td>0</td>\n",
       "      <td>1</td>\n",
       "      <td>1</td>\n",
       "      <td>6108</td>\n",
       "      <td>0</td>\n",
       "      <td>0</td>\n",
       "      <td>...</td>\n",
       "      <td>0</td>\n",
       "      <td>0</td>\n",
       "      <td>0</td>\n",
       "      <td>0</td>\n",
       "      <td>0</td>\n",
       "      <td>1</td>\n",
       "      <td>0</td>\n",
       "      <td>1</td>\n",
       "      <td>5615784</td>\n",
       "      <td>1.0</td>\n",
       "    </tr>\n",
       "    <tr>\n",
       "      <th>6070</th>\n",
       "      <td>511.0</td>\n",
       "      <td>27.0</td>\n",
       "      <td>0</td>\n",
       "      <td>0.0</td>\n",
       "      <td>0</td>\n",
       "      <td>0</td>\n",
       "      <td>0</td>\n",
       "      <td>488</td>\n",
       "      <td>0</td>\n",
       "      <td>0</td>\n",
       "      <td>...</td>\n",
       "      <td>0</td>\n",
       "      <td>0</td>\n",
       "      <td>0</td>\n",
       "      <td>0</td>\n",
       "      <td>0</td>\n",
       "      <td>1</td>\n",
       "      <td>0</td>\n",
       "      <td>2</td>\n",
       "      <td>10265735</td>\n",
       "      <td>0.0</td>\n",
       "    </tr>\n",
       "    <tr>\n",
       "      <th>41841</th>\n",
       "      <td>13829.0</td>\n",
       "      <td>3.0</td>\n",
       "      <td>1</td>\n",
       "      <td>3.5</td>\n",
       "      <td>0</td>\n",
       "      <td>0</td>\n",
       "      <td>0</td>\n",
       "      <td>7193</td>\n",
       "      <td>0</td>\n",
       "      <td>0</td>\n",
       "      <td>...</td>\n",
       "      <td>0</td>\n",
       "      <td>0</td>\n",
       "      <td>0</td>\n",
       "      <td>0</td>\n",
       "      <td>0</td>\n",
       "      <td>1</td>\n",
       "      <td>0</td>\n",
       "      <td>3</td>\n",
       "      <td>11882791</td>\n",
       "      <td>0.0</td>\n",
       "    </tr>\n",
       "    <tr>\n",
       "      <th>34263</th>\n",
       "      <td>1046.0</td>\n",
       "      <td>283.0</td>\n",
       "      <td>1</td>\n",
       "      <td>4.0</td>\n",
       "      <td>0</td>\n",
       "      <td>0</td>\n",
       "      <td>0</td>\n",
       "      <td>2589</td>\n",
       "      <td>0</td>\n",
       "      <td>0</td>\n",
       "      <td>...</td>\n",
       "      <td>0</td>\n",
       "      <td>0</td>\n",
       "      <td>0</td>\n",
       "      <td>0</td>\n",
       "      <td>0</td>\n",
       "      <td>1</td>\n",
       "      <td>0</td>\n",
       "      <td>3</td>\n",
       "      <td>1027158</td>\n",
       "      <td>0.0</td>\n",
       "    </tr>\n",
       "    <tr>\n",
       "      <th>26404</th>\n",
       "      <td>3780.0</td>\n",
       "      <td>203.0</td>\n",
       "      <td>1</td>\n",
       "      <td>4.0</td>\n",
       "      <td>0</td>\n",
       "      <td>0</td>\n",
       "      <td>0</td>\n",
       "      <td>6108</td>\n",
       "      <td>0</td>\n",
       "      <td>0</td>\n",
       "      <td>...</td>\n",
       "      <td>0</td>\n",
       "      <td>0</td>\n",
       "      <td>0</td>\n",
       "      <td>0</td>\n",
       "      <td>0</td>\n",
       "      <td>1</td>\n",
       "      <td>0</td>\n",
       "      <td>3</td>\n",
       "      <td>719892</td>\n",
       "      <td>0.0</td>\n",
       "    </tr>\n",
       "    <tr>\n",
       "      <th>2294</th>\n",
       "      <td>2946.0</td>\n",
       "      <td>5.0</td>\n",
       "      <td>0</td>\n",
       "      <td>0.0</td>\n",
       "      <td>0</td>\n",
       "      <td>0</td>\n",
       "      <td>1</td>\n",
       "      <td>1816</td>\n",
       "      <td>0</td>\n",
       "      <td>0</td>\n",
       "      <td>...</td>\n",
       "      <td>0</td>\n",
       "      <td>0</td>\n",
       "      <td>0</td>\n",
       "      <td>0</td>\n",
       "      <td>0</td>\n",
       "      <td>1</td>\n",
       "      <td>0</td>\n",
       "      <td>3</td>\n",
       "      <td>4570302</td>\n",
       "      <td>0.0</td>\n",
       "    </tr>\n",
       "    <tr>\n",
       "      <th>22281</th>\n",
       "      <td>273.0</td>\n",
       "      <td>105.0</td>\n",
       "      <td>1</td>\n",
       "      <td>4.5</td>\n",
       "      <td>0</td>\n",
       "      <td>0</td>\n",
       "      <td>0</td>\n",
       "      <td>1314</td>\n",
       "      <td>0</td>\n",
       "      <td>0</td>\n",
       "      <td>...</td>\n",
       "      <td>0</td>\n",
       "      <td>0</td>\n",
       "      <td>0</td>\n",
       "      <td>0</td>\n",
       "      <td>0</td>\n",
       "      <td>1</td>\n",
       "      <td>0</td>\n",
       "      <td>6</td>\n",
       "      <td>8566225</td>\n",
       "      <td>0.0</td>\n",
       "    </tr>\n",
       "    <tr>\n",
       "      <th>46386</th>\n",
       "      <td>1737.0</td>\n",
       "      <td>51.0</td>\n",
       "      <td>1</td>\n",
       "      <td>3.0</td>\n",
       "      <td>0</td>\n",
       "      <td>0</td>\n",
       "      <td>0</td>\n",
       "      <td>819</td>\n",
       "      <td>0</td>\n",
       "      <td>0</td>\n",
       "      <td>...</td>\n",
       "      <td>0</td>\n",
       "      <td>0</td>\n",
       "      <td>0</td>\n",
       "      <td>0</td>\n",
       "      <td>0</td>\n",
       "      <td>1</td>\n",
       "      <td>0</td>\n",
       "      <td>3</td>\n",
       "      <td>6580103</td>\n",
       "      <td>0.0</td>\n",
       "    </tr>\n",
       "    <tr>\n",
       "      <th>18276</th>\n",
       "      <td>2885.0</td>\n",
       "      <td>3.0</td>\n",
       "      <td>1</td>\n",
       "      <td>3.5</td>\n",
       "      <td>0</td>\n",
       "      <td>0</td>\n",
       "      <td>1</td>\n",
       "      <td>1443</td>\n",
       "      <td>0</td>\n",
       "      <td>0</td>\n",
       "      <td>...</td>\n",
       "      <td>1</td>\n",
       "      <td>0</td>\n",
       "      <td>0</td>\n",
       "      <td>0</td>\n",
       "      <td>0</td>\n",
       "      <td>1</td>\n",
       "      <td>0</td>\n",
       "      <td>1</td>\n",
       "      <td>2068265</td>\n",
       "      <td>1.0</td>\n",
       "    </tr>\n",
       "    <tr>\n",
       "      <th>17188</th>\n",
       "      <td>637.0</td>\n",
       "      <td>20.0</td>\n",
       "      <td>1</td>\n",
       "      <td>4.0</td>\n",
       "      <td>0</td>\n",
       "      <td>1</td>\n",
       "      <td>1</td>\n",
       "      <td>685</td>\n",
       "      <td>0</td>\n",
       "      <td>0</td>\n",
       "      <td>...</td>\n",
       "      <td>0</td>\n",
       "      <td>0</td>\n",
       "      <td>1</td>\n",
       "      <td>0</td>\n",
       "      <td>0</td>\n",
       "      <td>1</td>\n",
       "      <td>0</td>\n",
       "      <td>1</td>\n",
       "      <td>7045067</td>\n",
       "      <td>0.0</td>\n",
       "    </tr>\n",
       "  </tbody>\n",
       "</table>\n",
       "<p>10 rows × 46 columns</p>\n",
       "</div>"
      ],
      "text/plain": [
       "       Ranking  Number_of_Reviews  sample  Rating  Number_of_Reviews_isNAN  \\\n",
       "41736  11208.0                9.0       1     4.0                        0   \n",
       "6070     511.0               27.0       0     0.0                        0   \n",
       "41841  13829.0                3.0       1     3.5                        0   \n",
       "34263   1046.0              283.0       1     4.0                        0   \n",
       "26404   3780.0              203.0       1     4.0                        0   \n",
       "2294    2946.0                5.0       0     0.0                        0   \n",
       "22281    273.0              105.0       1     4.5                        0   \n",
       "46386   1737.0               51.0       1     3.0                        0   \n",
       "18276   2885.0                3.0       1     3.5                        0   \n",
       "17188    637.0               20.0       1     4.0                        0   \n",
       "\n",
       "       Cuisine_Style_isNAN  Price_Range_isNAN  Restaurant_count  \\\n",
       "41736                    1                  1              6108   \n",
       "6070                     0                  0               488   \n",
       "41841                    0                  0              7193   \n",
       "34263                    0                  0              2589   \n",
       "26404                    0                  0              6108   \n",
       "2294                     0                  1              1816   \n",
       "22281                    0                  0              1314   \n",
       "46386                    0                  0               819   \n",
       "18276                    0                  1              1443   \n",
       "17188                    1                  1               685   \n",
       "\n",
       "       City_Amsterdam  City_Athens  ...  City_Vienna  City_Warsaw  \\\n",
       "41736               0            0  ...            0            0   \n",
       "6070                0            0  ...            0            0   \n",
       "41841               0            0  ...            0            0   \n",
       "34263               0            0  ...            0            0   \n",
       "26404               0            0  ...            0            0   \n",
       "2294                0            0  ...            0            0   \n",
       "22281               0            0  ...            0            0   \n",
       "46386               0            0  ...            0            0   \n",
       "18276               0            0  ...            1            0   \n",
       "17188               0            0  ...            0            0   \n",
       "\n",
       "       City_Zurich  City_nan  Price_Range_0  Price_Range_1  Price_Range_2  \\\n",
       "41736            0         0              0              1              0   \n",
       "6070             0         0              0              1              0   \n",
       "41841            0         0              0              1              0   \n",
       "34263            0         0              0              1              0   \n",
       "26404            0         0              0              1              0   \n",
       "2294             0         0              0              1              0   \n",
       "22281            0         0              0              1              0   \n",
       "46386            0         0              0              1              0   \n",
       "18276            0         0              0              1              0   \n",
       "17188            1         0              0              1              0   \n",
       "\n",
       "       Cuisine_Style_count  ID_TA_Code  is_nan_reviews  \n",
       "41736                    1     5615784             1.0  \n",
       "6070                     2    10265735             0.0  \n",
       "41841                    3    11882791             0.0  \n",
       "34263                    3     1027158             0.0  \n",
       "26404                    3      719892             0.0  \n",
       "2294                     3     4570302             0.0  \n",
       "22281                    6     8566225             0.0  \n",
       "46386                    3     6580103             0.0  \n",
       "18276                    1     2068265             1.0  \n",
       "17188                    1     7045067             0.0  \n",
       "\n",
       "[10 rows x 46 columns]"
      ]
     },
     "execution_count": 48,
     "metadata": {},
     "output_type": "execute_result"
    }
   ],
   "source": [
    "df_preproc.sample(10)"
   ]
  },
  {
   "cell_type": "code",
   "execution_count": null,
   "metadata": {},
   "outputs": [],
   "source": []
  },
  {
   "cell_type": "markdown",
   "metadata": {},
   "source": [
    ">По хорошему, можно было бы перевести эту большую функцию в класс и разбить на подфункции (согласно ООП). "
   ]
  },
  {
   "cell_type": "markdown",
   "metadata": {},
   "source": [
    "#### Запускаем и проверяем что получилось"
   ]
  },
  {
   "cell_type": "code",
   "execution_count": 49,
   "metadata": {
    "execution": {
     "iopub.execute_input": "2021-06-16T12:33:42.447514Z",
     "iopub.status.busy": "2021-06-16T12:33:42.446960Z",
     "iopub.status.idle": "2021-06-16T12:33:42.474390Z",
     "shell.execute_reply": "2021-06-16T12:33:42.473383Z",
     "shell.execute_reply.started": "2021-06-16T12:33:42.447469Z"
    }
   },
   "outputs": [],
   "source": [
    "# Теперь выделим тестовую часть\n",
    "train_data = df_preproc.query('sample == 1').drop(['sample'], axis=1)\n",
    "test_data = df_preproc.query('sample == 0').drop(['sample'], axis=1)\n",
    "\n",
    "y = train_data.Rating.values            # наш таргет\n",
    "X = train_data.drop(['Rating'], axis=1)"
   ]
  },
  {
   "cell_type": "markdown",
   "metadata": {},
   "source": [
    "**Перед тем как отправлять наши данные на обучение, разделим данные на еще один тест и трейн, для валидации. \n",
    "Это поможет нам проверить, как хорошо наша модель работает, до отправки submissiona на kaggle.**"
   ]
  },
  {
   "cell_type": "code",
   "execution_count": 50,
   "metadata": {
    "execution": {
     "iopub.execute_input": "2021-06-16T12:33:49.301200Z",
     "iopub.status.busy": "2021-06-16T12:33:49.300857Z",
     "iopub.status.idle": "2021-06-16T12:33:49.318584Z",
     "shell.execute_reply": "2021-06-16T12:33:49.317345Z",
     "shell.execute_reply.started": "2021-06-16T12:33:49.301135Z"
    }
   },
   "outputs": [],
   "source": [
    "# Воспользуемся специальной функцие train_test_split для разбивки тестовых данных\n",
    "# выделим 20% данных на валидацию (параметр test_size)\n",
    "X_train, X_test, y_train, y_test = train_test_split(X, y, test_size=0.2, random_state=RANDOM_SEED)"
   ]
  },
  {
   "cell_type": "code",
   "execution_count": 51,
   "metadata": {
    "execution": {
     "iopub.execute_input": "2021-06-16T12:33:52.421414Z",
     "iopub.status.busy": "2021-06-16T12:33:52.421010Z",
     "iopub.status.idle": "2021-06-16T12:33:52.429566Z",
     "shell.execute_reply": "2021-06-16T12:33:52.428506Z",
     "shell.execute_reply.started": "2021-06-16T12:33:52.421355Z"
    }
   },
   "outputs": [
    {
     "data": {
      "text/plain": [
       "((10000, 45), (40000, 45), (40000, 44), (32000, 44), (8000, 44))"
      ]
     },
     "execution_count": 51,
     "metadata": {},
     "output_type": "execute_result"
    }
   ],
   "source": [
    "# проверяем\n",
    "test_data.shape, train_data.shape, X.shape, X_train.shape, X_test.shape"
   ]
  },
  {
   "cell_type": "markdown",
   "metadata": {},
   "source": [
    "# Model \n",
    "Сам ML"
   ]
  },
  {
   "cell_type": "code",
   "execution_count": 52,
   "metadata": {
    "execution": {
     "iopub.execute_input": "2021-06-16T12:33:57.100688Z",
     "iopub.status.busy": "2021-06-16T12:33:57.100304Z",
     "iopub.status.idle": "2021-06-16T12:33:57.105532Z",
     "shell.execute_reply": "2021-06-16T12:33:57.104669Z",
     "shell.execute_reply.started": "2021-06-16T12:33:57.100610Z"
    }
   },
   "outputs": [],
   "source": [
    "# Импортируем необходимые библиотеки:\n",
    "from sklearn.ensemble import RandomForestRegressor # инструмент для создания и обучения модели\n",
    "from sklearn import metrics # инструменты для оценки точности модели"
   ]
  },
  {
   "cell_type": "code",
   "execution_count": 53,
   "metadata": {
    "execution": {
     "iopub.execute_input": "2021-06-16T12:34:00.478924Z",
     "iopub.status.busy": "2021-06-16T12:34:00.478623Z",
     "iopub.status.idle": "2021-06-16T12:34:00.486189Z",
     "shell.execute_reply": "2021-06-16T12:34:00.485335Z",
     "shell.execute_reply.started": "2021-06-16T12:34:00.478887Z"
    }
   },
   "outputs": [],
   "source": [
    "# Создаём модель (НАСТРОЙКИ НЕ ТРОГАЕМ)\n",
    "model = RandomForestRegressor(n_estimators=100, verbose=1, n_jobs=-1, random_state=RANDOM_SEED)"
   ]
  },
  {
   "cell_type": "code",
   "execution_count": 54,
   "metadata": {
    "execution": {
     "iopub.execute_input": "2021-06-16T12:34:04.112783Z",
     "iopub.status.busy": "2021-06-16T12:34:04.112331Z",
     "iopub.status.idle": "2021-06-16T12:34:09.902909Z",
     "shell.execute_reply": "2021-06-16T12:34:09.902035Z",
     "shell.execute_reply.started": "2021-06-16T12:34:04.112742Z"
    }
   },
   "outputs": [
    {
     "name": "stderr",
     "output_type": "stream",
     "text": [
      "[Parallel(n_jobs=-1)]: Using backend ThreadingBackend with 4 concurrent workers.\n",
      "[Parallel(n_jobs=-1)]: Done  42 tasks      | elapsed:    2.6s\n",
      "[Parallel(n_jobs=-1)]: Done 100 out of 100 | elapsed:    6.0s finished\n",
      "[Parallel(n_jobs=4)]: Using backend ThreadingBackend with 4 concurrent workers.\n",
      "[Parallel(n_jobs=4)]: Done  42 tasks      | elapsed:    0.0s\n",
      "[Parallel(n_jobs=4)]: Done 100 out of 100 | elapsed:    0.1s finished\n"
     ]
    }
   ],
   "source": [
    "# Обучаем модель на тестовом наборе данных\n",
    "model.fit(X_train, y_train)\n",
    "\n",
    "# Используем обученную модель для предсказания рейтинга ресторанов в тестовой выборке.\n",
    "# Предсказанные значения записываем в переменную y_pred\n",
    "y_pred = model.predict(X_test)"
   ]
  },
  {
   "cell_type": "code",
   "execution_count": 55,
   "metadata": {
    "execution": {
     "iopub.execute_input": "2021-06-16T12:34:12.691028Z",
     "iopub.status.busy": "2021-06-16T12:34:12.690700Z",
     "iopub.status.idle": "2021-06-16T12:34:12.698725Z",
     "shell.execute_reply": "2021-06-16T12:34:12.697613Z",
     "shell.execute_reply.started": "2021-06-16T12:34:12.690977Z"
    }
   },
   "outputs": [
    {
     "name": "stdout",
     "output_type": "stream",
     "text": [
      "MAE: 0.206495\n"
     ]
    }
   ],
   "source": [
    "# Сравниваем предсказанные значения (y_pred) с реальными (y_test), и смотрим насколько они в среднем отличаются\n",
    "# Метрика называется Mean Absolute Error (MAE) и показывает среднее отклонение предсказанных значений от фактических.\n",
    "print('MAE:', metrics.mean_absolute_error(y_test, y_pred))"
   ]
  },
  {
   "cell_type": "code",
   "execution_count": 56,
   "metadata": {
    "execution": {
     "iopub.execute_input": "2021-06-16T11:49:53.615083Z",
     "iopub.status.busy": "2021-06-16T11:49:53.614726Z",
     "iopub.status.idle": "2021-06-16T11:49:54.064566Z",
     "shell.execute_reply": "2021-06-16T11:49:54.063403Z",
     "shell.execute_reply.started": "2021-06-16T11:49:53.615030Z"
    }
   },
   "outputs": [
    {
     "data": {
      "text/plain": [
       "<matplotlib.axes._subplots.AxesSubplot at 0x7f926e36cf98>"
      ]
     },
     "execution_count": 56,
     "metadata": {},
     "output_type": "execute_result"
    },
    {
     "data": {
      "image/png": "[encoded data removed]",
      "text/plain": [
       "<Figure size 720x720 with 1 Axes>"
      ]
     },
     "metadata": {
      "needs_background": "light"
     },
     "output_type": "display_data"
    }
   ],
   "source": [
    "# в RandomForestRegressor есть возможность вывести самые важные признаки для модели\n",
    "plt.rcParams['figure.figsize'] = (10,10)\n",
    "feat_importances = pd.Series(model.feature_importances_, index=X.columns)\n",
    "feat_importances.nlargest(15).plot(kind='barh')"
   ]
  },
  {
   "cell_type": "markdown",
   "metadata": {},
   "source": [
    "# Submission\n",
    "Если все устраевает - готовим Submission на кагл"
   ]
  },
  {
   "cell_type": "code",
   "execution_count": 57,
   "metadata": {
    "execution": {
     "iopub.status.busy": "2021-06-16T11:28:34.201538Z",
     "iopub.status.idle": "2021-06-16T11:28:34.20193Z"
    }
   },
   "outputs": [
    {
     "data": {
      "text/html": [
       "<div>\n",
       "<style scoped>\n",
       "    .dataframe tbody tr th:only-of-type {\n",
       "        vertical-align: middle;\n",
       "    }\n",
       "\n",
       "    .dataframe tbody tr th {\n",
       "        vertical-align: top;\n",
       "    }\n",
       "\n",
       "    .dataframe thead th {\n",
       "        text-align: right;\n",
       "    }\n",
       "</style>\n",
       "<table border=\"1\" class=\"dataframe\">\n",
       "  <thead>\n",
       "    <tr style=\"text-align: right;\">\n",
       "      <th></th>\n",
       "      <th>Ranking</th>\n",
       "      <th>Number_of_Reviews</th>\n",
       "      <th>Rating</th>\n",
       "      <th>Number_of_Reviews_isNAN</th>\n",
       "      <th>Cuisine_Style_isNAN</th>\n",
       "      <th>Price_Range_isNAN</th>\n",
       "      <th>Restaurant_count</th>\n",
       "      <th>City_Amsterdam</th>\n",
       "      <th>City_Athens</th>\n",
       "      <th>City_Barcelona</th>\n",
       "      <th>...</th>\n",
       "      <th>City_Vienna</th>\n",
       "      <th>City_Warsaw</th>\n",
       "      <th>City_Zurich</th>\n",
       "      <th>City_nan</th>\n",
       "      <th>Price_Range_0</th>\n",
       "      <th>Price_Range_1</th>\n",
       "      <th>Price_Range_2</th>\n",
       "      <th>Cuisine_Style_count</th>\n",
       "      <th>ID_TA_Code</th>\n",
       "      <th>is_nan_reviews</th>\n",
       "    </tr>\n",
       "  </thead>\n",
       "  <tbody>\n",
       "    <tr>\n",
       "      <th>8797</th>\n",
       "      <td>8389.0</td>\n",
       "      <td>31.0</td>\n",
       "      <td>0.0</td>\n",
       "      <td>0</td>\n",
       "      <td>1</td>\n",
       "      <td>1</td>\n",
       "      <td>3813</td>\n",
       "      <td>0</td>\n",
       "      <td>0</td>\n",
       "      <td>0</td>\n",
       "      <td>...</td>\n",
       "      <td>0</td>\n",
       "      <td>0</td>\n",
       "      <td>0</td>\n",
       "      <td>0</td>\n",
       "      <td>0</td>\n",
       "      <td>1</td>\n",
       "      <td>0</td>\n",
       "      <td>1</td>\n",
       "      <td>11555458</td>\n",
       "      <td>1.0</td>\n",
       "    </tr>\n",
       "    <tr>\n",
       "      <th>330</th>\n",
       "      <td>7946.0</td>\n",
       "      <td>4.0</td>\n",
       "      <td>0.0</td>\n",
       "      <td>0</td>\n",
       "      <td>0</td>\n",
       "      <td>1</td>\n",
       "      <td>6108</td>\n",
       "      <td>0</td>\n",
       "      <td>0</td>\n",
       "      <td>0</td>\n",
       "      <td>...</td>\n",
       "      <td>0</td>\n",
       "      <td>0</td>\n",
       "      <td>0</td>\n",
       "      <td>0</td>\n",
       "      <td>0</td>\n",
       "      <td>1</td>\n",
       "      <td>0</td>\n",
       "      <td>1</td>\n",
       "      <td>12713935</td>\n",
       "      <td>1.0</td>\n",
       "    </tr>\n",
       "    <tr>\n",
       "      <th>145</th>\n",
       "      <td>1039.0</td>\n",
       "      <td>20.0</td>\n",
       "      <td>0.0</td>\n",
       "      <td>0</td>\n",
       "      <td>1</td>\n",
       "      <td>1</td>\n",
       "      <td>1443</td>\n",
       "      <td>0</td>\n",
       "      <td>0</td>\n",
       "      <td>0</td>\n",
       "      <td>...</td>\n",
       "      <td>1</td>\n",
       "      <td>0</td>\n",
       "      <td>0</td>\n",
       "      <td>0</td>\n",
       "      <td>0</td>\n",
       "      <td>1</td>\n",
       "      <td>0</td>\n",
       "      <td>1</td>\n",
       "      <td>2284554</td>\n",
       "      <td>0.0</td>\n",
       "    </tr>\n",
       "    <tr>\n",
       "      <th>3755</th>\n",
       "      <td>2502.0</td>\n",
       "      <td>208.0</td>\n",
       "      <td>0.0</td>\n",
       "      <td>0</td>\n",
       "      <td>0</td>\n",
       "      <td>0</td>\n",
       "      <td>7193</td>\n",
       "      <td>0</td>\n",
       "      <td>0</td>\n",
       "      <td>0</td>\n",
       "      <td>...</td>\n",
       "      <td>0</td>\n",
       "      <td>0</td>\n",
       "      <td>0</td>\n",
       "      <td>0</td>\n",
       "      <td>0</td>\n",
       "      <td>1</td>\n",
       "      <td>0</td>\n",
       "      <td>5</td>\n",
       "      <td>6899811</td>\n",
       "      <td>0.0</td>\n",
       "    </tr>\n",
       "    <tr>\n",
       "      <th>1157</th>\n",
       "      <td>1630.0</td>\n",
       "      <td>27.0</td>\n",
       "      <td>0.0</td>\n",
       "      <td>0</td>\n",
       "      <td>0</td>\n",
       "      <td>0</td>\n",
       "      <td>2589</td>\n",
       "      <td>0</td>\n",
       "      <td>0</td>\n",
       "      <td>0</td>\n",
       "      <td>...</td>\n",
       "      <td>0</td>\n",
       "      <td>0</td>\n",
       "      <td>0</td>\n",
       "      <td>0</td>\n",
       "      <td>0</td>\n",
       "      <td>1</td>\n",
       "      <td>0</td>\n",
       "      <td>2</td>\n",
       "      <td>12321381</td>\n",
       "      <td>1.0</td>\n",
       "    </tr>\n",
       "    <tr>\n",
       "      <th>2258</th>\n",
       "      <td>4391.0</td>\n",
       "      <td>143.0</td>\n",
       "      <td>0.0</td>\n",
       "      <td>0</td>\n",
       "      <td>0</td>\n",
       "      <td>0</td>\n",
       "      <td>2589</td>\n",
       "      <td>0</td>\n",
       "      <td>0</td>\n",
       "      <td>0</td>\n",
       "      <td>...</td>\n",
       "      <td>0</td>\n",
       "      <td>0</td>\n",
       "      <td>0</td>\n",
       "      <td>0</td>\n",
       "      <td>0</td>\n",
       "      <td>1</td>\n",
       "      <td>0</td>\n",
       "      <td>1</td>\n",
       "      <td>2196548</td>\n",
       "      <td>0.0</td>\n",
       "    </tr>\n",
       "    <tr>\n",
       "      <th>3771</th>\n",
       "      <td>3606.0</td>\n",
       "      <td>274.0</td>\n",
       "      <td>0.0</td>\n",
       "      <td>0</td>\n",
       "      <td>0</td>\n",
       "      <td>0</td>\n",
       "      <td>2589</td>\n",
       "      <td>0</td>\n",
       "      <td>0</td>\n",
       "      <td>0</td>\n",
       "      <td>...</td>\n",
       "      <td>0</td>\n",
       "      <td>0</td>\n",
       "      <td>0</td>\n",
       "      <td>0</td>\n",
       "      <td>1</td>\n",
       "      <td>0</td>\n",
       "      <td>0</td>\n",
       "      <td>3</td>\n",
       "      <td>783830</td>\n",
       "      <td>0.0</td>\n",
       "    </tr>\n",
       "    <tr>\n",
       "      <th>8745</th>\n",
       "      <td>1971.0</td>\n",
       "      <td>7.0</td>\n",
       "      <td>0.0</td>\n",
       "      <td>0</td>\n",
       "      <td>1</td>\n",
       "      <td>1</td>\n",
       "      <td>1021</td>\n",
       "      <td>0</td>\n",
       "      <td>0</td>\n",
       "      <td>0</td>\n",
       "      <td>...</td>\n",
       "      <td>0</td>\n",
       "      <td>0</td>\n",
       "      <td>0</td>\n",
       "      <td>0</td>\n",
       "      <td>0</td>\n",
       "      <td>1</td>\n",
       "      <td>0</td>\n",
       "      <td>1</td>\n",
       "      <td>6778469</td>\n",
       "      <td>0.0</td>\n",
       "    </tr>\n",
       "    <tr>\n",
       "      <th>1133</th>\n",
       "      <td>5009.0</td>\n",
       "      <td>136.0</td>\n",
       "      <td>0.0</td>\n",
       "      <td>0</td>\n",
       "      <td>0</td>\n",
       "      <td>0</td>\n",
       "      <td>6108</td>\n",
       "      <td>0</td>\n",
       "      <td>0</td>\n",
       "      <td>0</td>\n",
       "      <td>...</td>\n",
       "      <td>0</td>\n",
       "      <td>0</td>\n",
       "      <td>0</td>\n",
       "      <td>0</td>\n",
       "      <td>1</td>\n",
       "      <td>0</td>\n",
       "      <td>0</td>\n",
       "      <td>3</td>\n",
       "      <td>3157401</td>\n",
       "      <td>0.0</td>\n",
       "    </tr>\n",
       "    <tr>\n",
       "      <th>9157</th>\n",
       "      <td>2209.0</td>\n",
       "      <td>62.0</td>\n",
       "      <td>0.0</td>\n",
       "      <td>0</td>\n",
       "      <td>0</td>\n",
       "      <td>0</td>\n",
       "      <td>2705</td>\n",
       "      <td>0</td>\n",
       "      <td>0</td>\n",
       "      <td>0</td>\n",
       "      <td>...</td>\n",
       "      <td>0</td>\n",
       "      <td>0</td>\n",
       "      <td>0</td>\n",
       "      <td>0</td>\n",
       "      <td>0</td>\n",
       "      <td>1</td>\n",
       "      <td>0</td>\n",
       "      <td>2</td>\n",
       "      <td>3198354</td>\n",
       "      <td>0.0</td>\n",
       "    </tr>\n",
       "  </tbody>\n",
       "</table>\n",
       "<p>10 rows × 45 columns</p>\n",
       "</div>"
      ],
      "text/plain": [
       "      Ranking  Number_of_Reviews  Rating  Number_of_Reviews_isNAN  \\\n",
       "8797   8389.0               31.0     0.0                        0   \n",
       "330    7946.0                4.0     0.0                        0   \n",
       "145    1039.0               20.0     0.0                        0   \n",
       "3755   2502.0              208.0     0.0                        0   \n",
       "1157   1630.0               27.0     0.0                        0   \n",
       "2258   4391.0              143.0     0.0                        0   \n",
       "3771   3606.0              274.0     0.0                        0   \n",
       "8745   1971.0                7.0     0.0                        0   \n",
       "1133   5009.0              136.0     0.0                        0   \n",
       "9157   2209.0               62.0     0.0                        0   \n",
       "\n",
       "      Cuisine_Style_isNAN  Price_Range_isNAN  Restaurant_count  \\\n",
       "8797                    1                  1              3813   \n",
       "330                     0                  1              6108   \n",
       "145                     1                  1              1443   \n",
       "3755                    0                  0              7193   \n",
       "1157                    0                  0              2589   \n",
       "2258                    0                  0              2589   \n",
       "3771                    0                  0              2589   \n",
       "8745                    1                  1              1021   \n",
       "1133                    0                  0              6108   \n",
       "9157                    0                  0              2705   \n",
       "\n",
       "      City_Amsterdam  City_Athens  City_Barcelona  ...  City_Vienna  \\\n",
       "8797               0            0               0  ...            0   \n",
       "330                0            0               0  ...            0   \n",
       "145                0            0               0  ...            1   \n",
       "3755               0            0               0  ...            0   \n",
       "1157               0            0               0  ...            0   \n",
       "2258               0            0               0  ...            0   \n",
       "3771               0            0               0  ...            0   \n",
       "8745               0            0               0  ...            0   \n",
       "1133               0            0               0  ...            0   \n",
       "9157               0            0               0  ...            0   \n",
       "\n",
       "      City_Warsaw  City_Zurich  City_nan  Price_Range_0  Price_Range_1  \\\n",
       "8797            0            0         0              0              1   \n",
       "330             0            0         0              0              1   \n",
       "145             0            0         0              0              1   \n",
       "3755            0            0         0              0              1   \n",
       "1157            0            0         0              0              1   \n",
       "2258            0            0         0              0              1   \n",
       "3771            0            0         0              1              0   \n",
       "8745            0            0         0              0              1   \n",
       "1133            0            0         0              1              0   \n",
       "9157            0            0         0              0              1   \n",
       "\n",
       "      Price_Range_2  Cuisine_Style_count  ID_TA_Code  is_nan_reviews  \n",
       "8797              0                    1    11555458             1.0  \n",
       "330               0                    1    12713935             1.0  \n",
       "145               0                    1     2284554             0.0  \n",
       "3755              0                    5     6899811             0.0  \n",
       "1157              0                    2    12321381             1.0  \n",
       "2258              0                    1     2196548             0.0  \n",
       "3771              0                    3      783830             0.0  \n",
       "8745              0                    1     6778469             0.0  \n",
       "1133              0                    3     3157401             0.0  \n",
       "9157              0                    2     3198354             0.0  \n",
       "\n",
       "[10 rows x 45 columns]"
      ]
     },
     "execution_count": 57,
     "metadata": {},
     "output_type": "execute_result"
    }
   ],
   "source": [
    "test_data.sample(10)"
   ]
  },
  {
   "cell_type": "code",
   "execution_count": 58,
   "metadata": {
    "execution": {
     "iopub.status.busy": "2021-06-16T11:28:34.202884Z",
     "iopub.status.idle": "2021-06-16T11:28:34.203288Z"
    }
   },
   "outputs": [],
   "source": [
    "test_data = test_data.drop(['Rating'], axis=1)"
   ]
  },
  {
   "cell_type": "code",
   "execution_count": 59,
   "metadata": {
    "execution": {
     "iopub.status.busy": "2021-06-16T11:28:34.204286Z",
     "iopub.status.idle": "2021-06-16T11:28:34.204695Z"
    }
   },
   "outputs": [
    {
     "data": {
      "text/html": [
       "<div>\n",
       "<style scoped>\n",
       "    .dataframe tbody tr th:only-of-type {\n",
       "        vertical-align: middle;\n",
       "    }\n",
       "\n",
       "    .dataframe tbody tr th {\n",
       "        vertical-align: top;\n",
       "    }\n",
       "\n",
       "    .dataframe thead th {\n",
       "        text-align: right;\n",
       "    }\n",
       "</style>\n",
       "<table border=\"1\" class=\"dataframe\">\n",
       "  <thead>\n",
       "    <tr style=\"text-align: right;\">\n",
       "      <th></th>\n",
       "      <th>Restaurant_id</th>\n",
       "      <th>Rating</th>\n",
       "    </tr>\n",
       "  </thead>\n",
       "  <tbody>\n",
       "    <tr>\n",
       "      <th>0</th>\n",
       "      <td>id_0</td>\n",
       "      <td>2.0</td>\n",
       "    </tr>\n",
       "    <tr>\n",
       "      <th>1</th>\n",
       "      <td>id_1</td>\n",
       "      <td>2.5</td>\n",
       "    </tr>\n",
       "    <tr>\n",
       "      <th>2</th>\n",
       "      <td>id_2</td>\n",
       "      <td>4.0</td>\n",
       "    </tr>\n",
       "    <tr>\n",
       "      <th>3</th>\n",
       "      <td>id_3</td>\n",
       "      <td>1.0</td>\n",
       "    </tr>\n",
       "    <tr>\n",
       "      <th>4</th>\n",
       "      <td>id_4</td>\n",
       "      <td>4.0</td>\n",
       "    </tr>\n",
       "    <tr>\n",
       "      <th>...</th>\n",
       "      <td>...</td>\n",
       "      <td>...</td>\n",
       "    </tr>\n",
       "    <tr>\n",
       "      <th>9995</th>\n",
       "      <td>id_9995</td>\n",
       "      <td>3.0</td>\n",
       "    </tr>\n",
       "    <tr>\n",
       "      <th>9996</th>\n",
       "      <td>id_9996</td>\n",
       "      <td>1.5</td>\n",
       "    </tr>\n",
       "    <tr>\n",
       "      <th>9997</th>\n",
       "      <td>id_9997</td>\n",
       "      <td>4.5</td>\n",
       "    </tr>\n",
       "    <tr>\n",
       "      <th>9998</th>\n",
       "      <td>id_9998</td>\n",
       "      <td>1.0</td>\n",
       "    </tr>\n",
       "    <tr>\n",
       "      <th>9999</th>\n",
       "      <td>id_9999</td>\n",
       "      <td>2.5</td>\n",
       "    </tr>\n",
       "  </tbody>\n",
       "</table>\n",
       "<p>10000 rows × 2 columns</p>\n",
       "</div>"
      ],
      "text/plain": [
       "     Restaurant_id  Rating\n",
       "0             id_0     2.0\n",
       "1             id_1     2.5\n",
       "2             id_2     4.0\n",
       "3             id_3     1.0\n",
       "4             id_4     4.0\n",
       "...            ...     ...\n",
       "9995       id_9995     3.0\n",
       "9996       id_9996     1.5\n",
       "9997       id_9997     4.5\n",
       "9998       id_9998     1.0\n",
       "9999       id_9999     2.5\n",
       "\n",
       "[10000 rows x 2 columns]"
      ]
     },
     "execution_count": 59,
     "metadata": {},
     "output_type": "execute_result"
    }
   ],
   "source": [
    "sample_submission"
   ]
  },
  {
   "cell_type": "code",
   "execution_count": 60,
   "metadata": {
    "execution": {
     "iopub.status.busy": "2021-06-16T11:28:34.205694Z",
     "iopub.status.idle": "2021-06-16T11:28:34.206082Z"
    }
   },
   "outputs": [
    {
     "name": "stderr",
     "output_type": "stream",
     "text": [
      "[Parallel(n_jobs=4)]: Using backend ThreadingBackend with 4 concurrent workers.\n",
      "[Parallel(n_jobs=4)]: Done  42 tasks      | elapsed:    0.1s\n",
      "[Parallel(n_jobs=4)]: Done 100 out of 100 | elapsed:    0.1s finished\n"
     ]
    }
   ],
   "source": [
    "predict_submission = model.predict(test_data)"
   ]
  },
  {
   "cell_type": "code",
   "execution_count": 61,
   "metadata": {
    "execution": {
     "iopub.status.busy": "2021-06-16T11:28:34.207137Z",
     "iopub.status.idle": "2021-06-16T11:28:34.207589Z"
    }
   },
   "outputs": [
    {
     "data": {
      "text/plain": [
       "array([3.325, 4.22 , 4.405, ..., 3.   , 4.5  , 4.355])"
      ]
     },
     "execution_count": 61,
     "metadata": {},
     "output_type": "execute_result"
    }
   ],
   "source": [
    "predict_submission"
   ]
  },
  {
   "cell_type": "code",
   "execution_count": 62,
   "metadata": {
    "execution": {
     "iopub.status.busy": "2021-06-16T11:28:34.208518Z",
     "iopub.status.idle": "2021-06-16T11:28:34.209021Z"
    }
   },
   "outputs": [
    {
     "data": {
      "text/html": [
       "<div>\n",
       "<style scoped>\n",
       "    .dataframe tbody tr th:only-of-type {\n",
       "        vertical-align: middle;\n",
       "    }\n",
       "\n",
       "    .dataframe tbody tr th {\n",
       "        vertical-align: top;\n",
       "    }\n",
       "\n",
       "    .dataframe thead th {\n",
       "        text-align: right;\n",
       "    }\n",
       "</style>\n",
       "<table border=\"1\" class=\"dataframe\">\n",
       "  <thead>\n",
       "    <tr style=\"text-align: right;\">\n",
       "      <th></th>\n",
       "      <th>Restaurant_id</th>\n",
       "      <th>Rating</th>\n",
       "    </tr>\n",
       "  </thead>\n",
       "  <tbody>\n",
       "    <tr>\n",
       "      <th>0</th>\n",
       "      <td>id_0</td>\n",
       "      <td>3.325</td>\n",
       "    </tr>\n",
       "    <tr>\n",
       "      <th>1</th>\n",
       "      <td>id_1</td>\n",
       "      <td>4.220</td>\n",
       "    </tr>\n",
       "    <tr>\n",
       "      <th>2</th>\n",
       "      <td>id_2</td>\n",
       "      <td>4.405</td>\n",
       "    </tr>\n",
       "    <tr>\n",
       "      <th>3</th>\n",
       "      <td>id_3</td>\n",
       "      <td>4.270</td>\n",
       "    </tr>\n",
       "    <tr>\n",
       "      <th>4</th>\n",
       "      <td>id_4</td>\n",
       "      <td>4.460</td>\n",
       "    </tr>\n",
       "    <tr>\n",
       "      <th>5</th>\n",
       "      <td>id_5</td>\n",
       "      <td>4.500</td>\n",
       "    </tr>\n",
       "    <tr>\n",
       "      <th>6</th>\n",
       "      <td>id_6</td>\n",
       "      <td>2.405</td>\n",
       "    </tr>\n",
       "    <tr>\n",
       "      <th>7</th>\n",
       "      <td>id_7</td>\n",
       "      <td>2.710</td>\n",
       "    </tr>\n",
       "    <tr>\n",
       "      <th>8</th>\n",
       "      <td>id_8</td>\n",
       "      <td>4.025</td>\n",
       "    </tr>\n",
       "    <tr>\n",
       "      <th>9</th>\n",
       "      <td>id_9</td>\n",
       "      <td>4.585</td>\n",
       "    </tr>\n",
       "  </tbody>\n",
       "</table>\n",
       "</div>"
      ],
      "text/plain": [
       "  Restaurant_id  Rating\n",
       "0          id_0   3.325\n",
       "1          id_1   4.220\n",
       "2          id_2   4.405\n",
       "3          id_3   4.270\n",
       "4          id_4   4.460\n",
       "5          id_5   4.500\n",
       "6          id_6   2.405\n",
       "7          id_7   2.710\n",
       "8          id_8   4.025\n",
       "9          id_9   4.585"
      ]
     },
     "execution_count": 62,
     "metadata": {},
     "output_type": "execute_result"
    }
   ],
   "source": [
    "sample_submission['Rating'] = predict_submission\n",
    "sample_submission.to_csv('submission.csv', index=False)\n",
    "sample_submission.head(10)"
   ]
  },
  {
   "cell_type": "markdown",
   "metadata": {},
   "source": [
    "# What's next?\n",
    "Или что делать, чтоб улучшить результат:\n",
    "* Обработать оставшиеся признаки в понятный для машины формат\n",
    "* Посмотреть, что еще можно извлечь из признаков\n",
    "* Сгенерировать новые признаки\n",
    "* Подгрузить дополнительные данные, например: по населению или благосостоянию городов\n",
    "* Подобрать состав признаков\n",
    "\n",
    "В общем, процесс творческий и весьма увлекательный! Удачи в соревновании!\n"
   ]
  },
  {
   "cell_type": "code",
   "execution_count": null,
   "metadata": {},
   "outputs": [],
   "source": []
  }
 ],
 "metadata": {
  "kernelspec": {
   "display_name": "Python 3",
   "language": "python",
   "name": "python3"
  },
  "language_info": {
   "codemirror_mode": {
    "name": "ipython",
    "version": 3
   },
   "file_extension": ".py",
   "mimetype": "text/x-python",
   "name": "python",
   "nbconvert_exporter": "python",
   "pygments_lexer": "ipython3",
   "version": "3.6.6"
  }
 },
 "nbformat": 4,
 "nbformat_minor": 4
}
